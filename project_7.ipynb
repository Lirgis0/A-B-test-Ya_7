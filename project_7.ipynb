{
  "cells": [
    {
      "cell_type": "markdown",
      "metadata": {
        "id": "view-in-github",
        "colab_type": "text"
      },
      "source": [
        "<a href=\"https://colab.research.google.com/github/Lirgis0/A-B-test-Ya_8/blob/main/project_7.ipynb\" target=\"_parent\"><img src=\"https://colab.research.google.com/assets/colab-badge.svg\" alt=\"Open In Colab\"/></a>"
      ]
    },
    {
      "cell_type": "markdown",
      "source": [
        "# Импорт библиотек, настройка вывода и загрузка датасетов"
      ],
      "metadata": {
        "id": "biSZanWARHru"
      }
    },
    {
      "cell_type": "code",
      "execution_count": null,
      "metadata": {
        "id": "SjlYZKfMLuEi"
      },
      "outputs": [],
      "source": [
        "import pandas as pd\n",
        "import numpy as np\n",
        "pd.options.display.max_colwidth = 150\n",
        "import datetime as dt\n",
        "import matplotlib.pyplot as plt\n",
        "from pandas.plotting import register_matplotlib_converters\n",
        "import warnings\n",
        "register_matplotlib_converters()\n",
        "import scipy.stats as stats"
      ]
    },
    {
      "cell_type": "code",
      "execution_count": null,
      "metadata": {
        "id": "coUMKcRJLuEn"
      },
      "outputs": [],
      "source": [
        "hypothesis = pd.read_csv('/datasets/hypothesis.csv')\n",
        "orders = pd.read_csv('/datasets/orders.csv')\n",
        "orders['date'] = orders['date'].map(lambda x: dt.datetime.strptime(x, '%Y-%m-%d'))\n",
        "visitors = pd.read_csv('/datasets/visitors.csv')\n",
        "visitors['date'] = visitors['date'].map(lambda x: dt.datetime.strptime(x, '%Y-%m-%d'))"
      ]
    },
    {
      "cell_type": "markdown",
      "metadata": {
        "id": "XBfQusPYLuEo"
      },
      "source": [
        "# Предобработка данных"
      ]
    },
    {
      "cell_type": "code",
      "execution_count": null,
      "metadata": {
        "id": "lNtbAcgPLuEq",
        "outputId": "c7a02a41-7be7-46b0-9f44-41dca2df517b"
      },
      "outputs": [
        {
          "data": {
            "text/html": [
              "<div>\n",
              "<style scoped>\n",
              "    .dataframe tbody tr th:only-of-type {\n",
              "        vertical-align: middle;\n",
              "    }\n",
              "\n",
              "    .dataframe tbody tr th {\n",
              "        vertical-align: top;\n",
              "    }\n",
              "\n",
              "    .dataframe thead th {\n",
              "        text-align: right;\n",
              "    }\n",
              "</style>\n",
              "<table border=\"1\" class=\"dataframe\">\n",
              "  <thead>\n",
              "    <tr style=\"text-align: right;\">\n",
              "      <th></th>\n",
              "      <th>Hypothesis</th>\n",
              "      <th>Reach</th>\n",
              "      <th>Impact</th>\n",
              "      <th>Confidence</th>\n",
              "      <th>Efforts</th>\n",
              "    </tr>\n",
              "  </thead>\n",
              "  <tbody>\n",
              "    <tr>\n",
              "      <th>0</th>\n",
              "      <td>Добавить два новых канала привлечения трафика, что позволит привлекать на 30% больше пользователей</td>\n",
              "      <td>3</td>\n",
              "      <td>10</td>\n",
              "      <td>8</td>\n",
              "      <td>6</td>\n",
              "    </tr>\n",
              "    <tr>\n",
              "      <th>1</th>\n",
              "      <td>Запустить собственную службу доставки, что сократит срок доставки заказов</td>\n",
              "      <td>2</td>\n",
              "      <td>5</td>\n",
              "      <td>4</td>\n",
              "      <td>10</td>\n",
              "    </tr>\n",
              "    <tr>\n",
              "      <th>2</th>\n",
              "      <td>Добавить блоки рекомендаций товаров на сайт интернет магазина, чтобы повысить конверсию и средний чек заказа</td>\n",
              "      <td>8</td>\n",
              "      <td>3</td>\n",
              "      <td>7</td>\n",
              "      <td>3</td>\n",
              "    </tr>\n",
              "    <tr>\n",
              "      <th>3</th>\n",
              "      <td>Изменить структура категорий, что увеличит конверсию, т.к. пользователи быстрее найдут нужный товар</td>\n",
              "      <td>8</td>\n",
              "      <td>3</td>\n",
              "      <td>3</td>\n",
              "      <td>8</td>\n",
              "    </tr>\n",
              "    <tr>\n",
              "      <th>4</th>\n",
              "      <td>Изменить цвет фона главной страницы, чтобы увеличить вовлеченность пользователей</td>\n",
              "      <td>3</td>\n",
              "      <td>1</td>\n",
              "      <td>1</td>\n",
              "      <td>1</td>\n",
              "    </tr>\n",
              "    <tr>\n",
              "      <th>5</th>\n",
              "      <td>Добавить страницу отзывов клиентов о магазине, что позволит увеличить количество заказов</td>\n",
              "      <td>3</td>\n",
              "      <td>2</td>\n",
              "      <td>2</td>\n",
              "      <td>3</td>\n",
              "    </tr>\n",
              "    <tr>\n",
              "      <th>6</th>\n",
              "      <td>Показать на главной странице баннеры с актуальными акциями и распродажами, чтобы увеличить конверсию</td>\n",
              "      <td>5</td>\n",
              "      <td>3</td>\n",
              "      <td>8</td>\n",
              "      <td>3</td>\n",
              "    </tr>\n",
              "    <tr>\n",
              "      <th>7</th>\n",
              "      <td>Добавить форму подписки на все основные страницы, чтобы собрать базу клиентов для email-рассылок</td>\n",
              "      <td>10</td>\n",
              "      <td>7</td>\n",
              "      <td>8</td>\n",
              "      <td>5</td>\n",
              "    </tr>\n",
              "    <tr>\n",
              "      <th>8</th>\n",
              "      <td>Запустить акцию, дающую скидку на товар в день рождения</td>\n",
              "      <td>1</td>\n",
              "      <td>9</td>\n",
              "      <td>9</td>\n",
              "      <td>5</td>\n",
              "    </tr>\n",
              "  </tbody>\n",
              "</table>\n",
              "</div>"
            ],
            "text/plain": [
              "                                                                                                     Hypothesis  \\\n",
              "0            Добавить два новых канала привлечения трафика, что позволит привлекать на 30% больше пользователей   \n",
              "1                                     Запустить собственную службу доставки, что сократит срок доставки заказов   \n",
              "2  Добавить блоки рекомендаций товаров на сайт интернет магазина, чтобы повысить конверсию и средний чек заказа   \n",
              "3           Изменить структура категорий, что увеличит конверсию, т.к. пользователи быстрее найдут нужный товар   \n",
              "4                              Изменить цвет фона главной страницы, чтобы увеличить вовлеченность пользователей   \n",
              "5                      Добавить страницу отзывов клиентов о магазине, что позволит увеличить количество заказов   \n",
              "6          Показать на главной странице баннеры с актуальными акциями и распродажами, чтобы увеличить конверсию   \n",
              "7              Добавить форму подписки на все основные страницы, чтобы собрать базу клиентов для email-рассылок   \n",
              "8                                                       Запустить акцию, дающую скидку на товар в день рождения   \n",
              "\n",
              "   Reach  Impact  Confidence  Efforts  \n",
              "0      3      10           8        6  \n",
              "1      2       5           4       10  \n",
              "2      8       3           7        3  \n",
              "3      8       3           3        8  \n",
              "4      3       1           1        1  \n",
              "5      3       2           2        3  \n",
              "6      5       3           8        3  \n",
              "7     10       7           8        5  \n",
              "8      1       9           9        5  "
            ]
          },
          "execution_count": 3,
          "metadata": {},
          "output_type": "execute_result"
        }
      ],
      "source": [
        "hypothesis"
      ]
    },
    {
      "cell_type": "code",
      "execution_count": null,
      "metadata": {
        "id": "8MB-5xgqLuEt",
        "outputId": "2af41c9a-7fa3-4050-e5be-6ac300af5bec"
      },
      "outputs": [
        {
          "name": "stdout",
          "output_type": "stream",
          "text": [
            "<class 'pandas.core.frame.DataFrame'>\n",
            "RangeIndex: 9 entries, 0 to 8\n",
            "Data columns (total 5 columns):\n",
            " #   Column      Non-Null Count  Dtype \n",
            "---  ------      --------------  ----- \n",
            " 0   Hypothesis  9 non-null      object\n",
            " 1   Reach       9 non-null      int64 \n",
            " 2   Impact      9 non-null      int64 \n",
            " 3   Confidence  9 non-null      int64 \n",
            " 4   Efforts     9 non-null      int64 \n",
            "dtypes: int64(4), object(1)\n",
            "memory usage: 488.0+ bytes\n"
          ]
        }
      ],
      "source": [
        "hypothesis.info()"
      ]
    },
    {
      "cell_type": "code",
      "execution_count": null,
      "metadata": {
        "id": "AYnd4ASYLuEu",
        "outputId": "f8642d25-3125-4705-dbe5-3a33d0a02f36"
      },
      "outputs": [
        {
          "data": {
            "text/plain": [
              "Index(['Hypothesis', 'Reach', 'Impact', 'Confidence', 'Efforts'], dtype='object')"
            ]
          },
          "execution_count": 5,
          "metadata": {},
          "output_type": "execute_result"
        }
      ],
      "source": [
        "hypothesis.columns"
      ]
    },
    {
      "cell_type": "code",
      "execution_count": null,
      "metadata": {
        "id": "khflZ5ljLuEv"
      },
      "outputs": [],
      "source": [
        "hypothesis.columns = hypothesis.columns.str.lower()"
      ]
    },
    {
      "cell_type": "code",
      "execution_count": null,
      "metadata": {
        "id": "tEvsa5mkLuEw",
        "outputId": "f03a1ab9-26bd-4806-c3fe-ba520569b771"
      },
      "outputs": [
        {
          "data": {
            "text/html": [
              "<div>\n",
              "<style scoped>\n",
              "    .dataframe tbody tr th:only-of-type {\n",
              "        vertical-align: middle;\n",
              "    }\n",
              "\n",
              "    .dataframe tbody tr th {\n",
              "        vertical-align: top;\n",
              "    }\n",
              "\n",
              "    .dataframe thead th {\n",
              "        text-align: right;\n",
              "    }\n",
              "</style>\n",
              "<table border=\"1\" class=\"dataframe\">\n",
              "  <thead>\n",
              "    <tr style=\"text-align: right;\">\n",
              "      <th></th>\n",
              "      <th>transactionId</th>\n",
              "      <th>visitorId</th>\n",
              "      <th>date</th>\n",
              "      <th>revenue</th>\n",
              "      <th>group</th>\n",
              "    </tr>\n",
              "  </thead>\n",
              "  <tbody>\n",
              "    <tr>\n",
              "      <th>0</th>\n",
              "      <td>3667963787</td>\n",
              "      <td>3312258926</td>\n",
              "      <td>2019-08-15</td>\n",
              "      <td>1650</td>\n",
              "      <td>B</td>\n",
              "    </tr>\n",
              "    <tr>\n",
              "      <th>1</th>\n",
              "      <td>2804400009</td>\n",
              "      <td>3642806036</td>\n",
              "      <td>2019-08-15</td>\n",
              "      <td>730</td>\n",
              "      <td>B</td>\n",
              "    </tr>\n",
              "    <tr>\n",
              "      <th>2</th>\n",
              "      <td>2961555356</td>\n",
              "      <td>4069496402</td>\n",
              "      <td>2019-08-15</td>\n",
              "      <td>400</td>\n",
              "      <td>A</td>\n",
              "    </tr>\n",
              "    <tr>\n",
              "      <th>3</th>\n",
              "      <td>3797467345</td>\n",
              "      <td>1196621759</td>\n",
              "      <td>2019-08-15</td>\n",
              "      <td>9759</td>\n",
              "      <td>B</td>\n",
              "    </tr>\n",
              "    <tr>\n",
              "      <th>4</th>\n",
              "      <td>2282983706</td>\n",
              "      <td>2322279887</td>\n",
              "      <td>2019-08-15</td>\n",
              "      <td>2308</td>\n",
              "      <td>B</td>\n",
              "    </tr>\n",
              "  </tbody>\n",
              "</table>\n",
              "</div>"
            ],
            "text/plain": [
              "   transactionId   visitorId       date  revenue group\n",
              "0     3667963787  3312258926 2019-08-15     1650     B\n",
              "1     2804400009  3642806036 2019-08-15      730     B\n",
              "2     2961555356  4069496402 2019-08-15      400     A\n",
              "3     3797467345  1196621759 2019-08-15     9759     B\n",
              "4     2282983706  2322279887 2019-08-15     2308     B"
            ]
          },
          "execution_count": 7,
          "metadata": {},
          "output_type": "execute_result"
        }
      ],
      "source": [
        "orders.head()"
      ]
    },
    {
      "cell_type": "code",
      "execution_count": null,
      "metadata": {
        "id": "e6HnAdiNLuEx",
        "outputId": "78ebefde-3d1b-427c-c04d-d0bae22cf24e"
      },
      "outputs": [
        {
          "name": "stdout",
          "output_type": "stream",
          "text": [
            "<class 'pandas.core.frame.DataFrame'>\n",
            "RangeIndex: 1197 entries, 0 to 1196\n",
            "Data columns (total 5 columns):\n",
            " #   Column         Non-Null Count  Dtype         \n",
            "---  ------         --------------  -----         \n",
            " 0   transactionId  1197 non-null   int64         \n",
            " 1   visitorId      1197 non-null   int64         \n",
            " 2   date           1197 non-null   datetime64[ns]\n",
            " 3   revenue        1197 non-null   int64         \n",
            " 4   group          1197 non-null   object        \n",
            "dtypes: datetime64[ns](1), int64(3), object(1)\n",
            "memory usage: 46.9+ KB\n"
          ]
        }
      ],
      "source": [
        "orders.info()"
      ]
    },
    {
      "cell_type": "code",
      "execution_count": null,
      "metadata": {
        "id": "oQnNIikZLuEy",
        "outputId": "cfe07904-1aa9-4231-b49f-e234f66b932e"
      },
      "outputs": [
        {
          "data": {
            "text/plain": [
              "Index(['transactionId', 'visitorId', 'date', 'revenue', 'group'], dtype='object')"
            ]
          },
          "execution_count": 9,
          "metadata": {},
          "output_type": "execute_result"
        }
      ],
      "source": [
        "orders.columns"
      ]
    },
    {
      "cell_type": "code",
      "execution_count": null,
      "metadata": {
        "id": "mPkQQdofLuEz"
      },
      "outputs": [],
      "source": [
        "orders.columns = ['transaction_id', 'visitor_id', 'date', 'revenue', 'group']"
      ]
    },
    {
      "cell_type": "code",
      "execution_count": null,
      "metadata": {
        "id": "6Bz1tDr6LuEz",
        "outputId": "cd071bc7-978d-420b-e245-c647c7eda0f1"
      },
      "outputs": [
        {
          "data": {
            "text/plain": [
              "0"
            ]
          },
          "execution_count": 11,
          "metadata": {},
          "output_type": "execute_result"
        }
      ],
      "source": [
        "orders.duplicated().sum()"
      ]
    },
    {
      "cell_type": "code",
      "execution_count": null,
      "metadata": {
        "id": "UkDzPfjMLuE0",
        "outputId": "8c4c40bc-57c4-47d6-d3b0-30e795243082"
      },
      "outputs": [
        {
          "data": {
            "text/plain": [
              "transaction_id    0.0\n",
              "visitor_id        0.0\n",
              "date              0.0\n",
              "revenue           0.0\n",
              "group             0.0\n",
              "dtype: float64"
            ]
          },
          "execution_count": 12,
          "metadata": {},
          "output_type": "execute_result"
        }
      ],
      "source": [
        "orders.isna().mean()"
      ]
    },
    {
      "cell_type": "code",
      "execution_count": null,
      "metadata": {
        "id": "6ae4hC-yLuE1",
        "outputId": "d89eff37-c4ce-49f9-e952-4c82c00bd454"
      },
      "outputs": [
        {
          "data": {
            "text/html": [
              "<div>\n",
              "<style scoped>\n",
              "    .dataframe tbody tr th:only-of-type {\n",
              "        vertical-align: middle;\n",
              "    }\n",
              "\n",
              "    .dataframe tbody tr th {\n",
              "        vertical-align: top;\n",
              "    }\n",
              "\n",
              "    .dataframe thead th {\n",
              "        text-align: right;\n",
              "    }\n",
              "</style>\n",
              "<table border=\"1\" class=\"dataframe\">\n",
              "  <thead>\n",
              "    <tr style=\"text-align: right;\">\n",
              "      <th></th>\n",
              "      <th>date</th>\n",
              "      <th>group</th>\n",
              "      <th>visitors</th>\n",
              "    </tr>\n",
              "  </thead>\n",
              "  <tbody>\n",
              "    <tr>\n",
              "      <th>0</th>\n",
              "      <td>2019-08-01</td>\n",
              "      <td>A</td>\n",
              "      <td>719</td>\n",
              "    </tr>\n",
              "    <tr>\n",
              "      <th>1</th>\n",
              "      <td>2019-08-02</td>\n",
              "      <td>A</td>\n",
              "      <td>619</td>\n",
              "    </tr>\n",
              "    <tr>\n",
              "      <th>2</th>\n",
              "      <td>2019-08-03</td>\n",
              "      <td>A</td>\n",
              "      <td>507</td>\n",
              "    </tr>\n",
              "    <tr>\n",
              "      <th>3</th>\n",
              "      <td>2019-08-04</td>\n",
              "      <td>A</td>\n",
              "      <td>717</td>\n",
              "    </tr>\n",
              "    <tr>\n",
              "      <th>4</th>\n",
              "      <td>2019-08-05</td>\n",
              "      <td>A</td>\n",
              "      <td>756</td>\n",
              "    </tr>\n",
              "  </tbody>\n",
              "</table>\n",
              "</div>"
            ],
            "text/plain": [
              "        date group  visitors\n",
              "0 2019-08-01     A       719\n",
              "1 2019-08-02     A       619\n",
              "2 2019-08-03     A       507\n",
              "3 2019-08-04     A       717\n",
              "4 2019-08-05     A       756"
            ]
          },
          "execution_count": 13,
          "metadata": {},
          "output_type": "execute_result"
        }
      ],
      "source": [
        "visitors.head()"
      ]
    },
    {
      "cell_type": "code",
      "execution_count": null,
      "metadata": {
        "id": "7ynlwOxFLuE2",
        "outputId": "da7fe9a1-6520-4492-b97c-f1545e5735a7"
      },
      "outputs": [
        {
          "data": {
            "text/plain": [
              "0"
            ]
          },
          "execution_count": 14,
          "metadata": {},
          "output_type": "execute_result"
        }
      ],
      "source": [
        "visitors.duplicated().sum()"
      ]
    },
    {
      "cell_type": "code",
      "execution_count": null,
      "metadata": {
        "id": "JIssdshHLuE3",
        "outputId": "82bb5210-ad75-4e84-9b96-0b803c5672a2"
      },
      "outputs": [
        {
          "data": {
            "text/plain": [
              "date        0.0\n",
              "group       0.0\n",
              "visitors    0.0\n",
              "dtype: float64"
            ]
          },
          "execution_count": 15,
          "metadata": {},
          "output_type": "execute_result"
        }
      ],
      "source": [
        "visitors.isna().mean()"
      ]
    },
    {
      "cell_type": "markdown",
      "metadata": {
        "id": "VFLtPQeULuE4"
      },
      "source": [
        "В датасетах нет пропусков и дубликатов. В датасете orders переименовал и привел к нижнему регистру столбцы.\n"
      ]
    },
    {
      "cell_type": "markdown",
      "metadata": {
        "id": "9UwHHTn-LuE5"
      },
      "source": [
        " # Приоритизация гипотез"
      ]
    },
    {
      "cell_type": "code",
      "execution_count": null,
      "metadata": {
        "id": "stKwNEb6LuE5",
        "outputId": "054be760-e609-49ec-ab7b-44b515199f14"
      },
      "outputs": [
        {
          "data": {
            "text/html": [
              "<div>\n",
              "<style scoped>\n",
              "    .dataframe tbody tr th:only-of-type {\n",
              "        vertical-align: middle;\n",
              "    }\n",
              "\n",
              "    .dataframe tbody tr th {\n",
              "        vertical-align: top;\n",
              "    }\n",
              "\n",
              "    .dataframe thead th {\n",
              "        text-align: right;\n",
              "    }\n",
              "</style>\n",
              "<table border=\"1\" class=\"dataframe\">\n",
              "  <thead>\n",
              "    <tr style=\"text-align: right;\">\n",
              "      <th></th>\n",
              "      <th>hypothesis</th>\n",
              "      <th>reach</th>\n",
              "      <th>impact</th>\n",
              "      <th>confidence</th>\n",
              "      <th>efforts</th>\n",
              "    </tr>\n",
              "  </thead>\n",
              "  <tbody>\n",
              "    <tr>\n",
              "      <th>0</th>\n",
              "      <td>Добавить два новых канала привлечения трафика, что позволит привлекать на 30% больше пользователей</td>\n",
              "      <td>3</td>\n",
              "      <td>10</td>\n",
              "      <td>8</td>\n",
              "      <td>6</td>\n",
              "    </tr>\n",
              "    <tr>\n",
              "      <th>1</th>\n",
              "      <td>Запустить собственную службу доставки, что сократит срок доставки заказов</td>\n",
              "      <td>2</td>\n",
              "      <td>5</td>\n",
              "      <td>4</td>\n",
              "      <td>10</td>\n",
              "    </tr>\n",
              "    <tr>\n",
              "      <th>2</th>\n",
              "      <td>Добавить блоки рекомендаций товаров на сайт интернет магазина, чтобы повысить конверсию и средний чек заказа</td>\n",
              "      <td>8</td>\n",
              "      <td>3</td>\n",
              "      <td>7</td>\n",
              "      <td>3</td>\n",
              "    </tr>\n",
              "    <tr>\n",
              "      <th>3</th>\n",
              "      <td>Изменить структура категорий, что увеличит конверсию, т.к. пользователи быстрее найдут нужный товар</td>\n",
              "      <td>8</td>\n",
              "      <td>3</td>\n",
              "      <td>3</td>\n",
              "      <td>8</td>\n",
              "    </tr>\n",
              "    <tr>\n",
              "      <th>4</th>\n",
              "      <td>Изменить цвет фона главной страницы, чтобы увеличить вовлеченность пользователей</td>\n",
              "      <td>3</td>\n",
              "      <td>1</td>\n",
              "      <td>1</td>\n",
              "      <td>1</td>\n",
              "    </tr>\n",
              "    <tr>\n",
              "      <th>5</th>\n",
              "      <td>Добавить страницу отзывов клиентов о магазине, что позволит увеличить количество заказов</td>\n",
              "      <td>3</td>\n",
              "      <td>2</td>\n",
              "      <td>2</td>\n",
              "      <td>3</td>\n",
              "    </tr>\n",
              "    <tr>\n",
              "      <th>6</th>\n",
              "      <td>Показать на главной странице баннеры с актуальными акциями и распродажами, чтобы увеличить конверсию</td>\n",
              "      <td>5</td>\n",
              "      <td>3</td>\n",
              "      <td>8</td>\n",
              "      <td>3</td>\n",
              "    </tr>\n",
              "    <tr>\n",
              "      <th>7</th>\n",
              "      <td>Добавить форму подписки на все основные страницы, чтобы собрать базу клиентов для email-рассылок</td>\n",
              "      <td>10</td>\n",
              "      <td>7</td>\n",
              "      <td>8</td>\n",
              "      <td>5</td>\n",
              "    </tr>\n",
              "    <tr>\n",
              "      <th>8</th>\n",
              "      <td>Запустить акцию, дающую скидку на товар в день рождения</td>\n",
              "      <td>1</td>\n",
              "      <td>9</td>\n",
              "      <td>9</td>\n",
              "      <td>5</td>\n",
              "    </tr>\n",
              "  </tbody>\n",
              "</table>\n",
              "</div>"
            ],
            "text/plain": [
              "                                                                                                     hypothesis  \\\n",
              "0            Добавить два новых канала привлечения трафика, что позволит привлекать на 30% больше пользователей   \n",
              "1                                     Запустить собственную службу доставки, что сократит срок доставки заказов   \n",
              "2  Добавить блоки рекомендаций товаров на сайт интернет магазина, чтобы повысить конверсию и средний чек заказа   \n",
              "3           Изменить структура категорий, что увеличит конверсию, т.к. пользователи быстрее найдут нужный товар   \n",
              "4                              Изменить цвет фона главной страницы, чтобы увеличить вовлеченность пользователей   \n",
              "5                      Добавить страницу отзывов клиентов о магазине, что позволит увеличить количество заказов   \n",
              "6          Показать на главной странице баннеры с актуальными акциями и распродажами, чтобы увеличить конверсию   \n",
              "7              Добавить форму подписки на все основные страницы, чтобы собрать базу клиентов для email-рассылок   \n",
              "8                                                       Запустить акцию, дающую скидку на товар в день рождения   \n",
              "\n",
              "   reach  impact  confidence  efforts  \n",
              "0      3      10           8        6  \n",
              "1      2       5           4       10  \n",
              "2      8       3           7        3  \n",
              "3      8       3           3        8  \n",
              "4      3       1           1        1  \n",
              "5      3       2           2        3  \n",
              "6      5       3           8        3  \n",
              "7     10       7           8        5  \n",
              "8      1       9           9        5  "
            ]
          },
          "execution_count": 16,
          "metadata": {},
          "output_type": "execute_result"
        }
      ],
      "source": [
        "hypothesis"
      ]
    },
    {
      "cell_type": "code",
      "execution_count": null,
      "metadata": {
        "id": "f83OMvWVLuE6",
        "outputId": "9daa419b-e23e-49a2-bf6c-b7814c18fcdd"
      },
      "outputs": [
        {
          "data": {
            "text/html": [
              "<div>\n",
              "<style scoped>\n",
              "    .dataframe tbody tr th:only-of-type {\n",
              "        vertical-align: middle;\n",
              "    }\n",
              "\n",
              "    .dataframe tbody tr th {\n",
              "        vertical-align: top;\n",
              "    }\n",
              "\n",
              "    .dataframe thead th {\n",
              "        text-align: right;\n",
              "    }\n",
              "</style>\n",
              "<table border=\"1\" class=\"dataframe\">\n",
              "  <thead>\n",
              "    <tr style=\"text-align: right;\">\n",
              "      <th></th>\n",
              "      <th>hypothesis</th>\n",
              "      <th>ise</th>\n",
              "    </tr>\n",
              "  </thead>\n",
              "  <tbody>\n",
              "    <tr>\n",
              "      <th>8</th>\n",
              "      <td>Запустить акцию, дающую скидку на товар в день рождения</td>\n",
              "      <td>16.200000</td>\n",
              "    </tr>\n",
              "    <tr>\n",
              "      <th>0</th>\n",
              "      <td>Добавить два новых канала привлечения трафика, что позволит привлекать на 30% больше пользователей</td>\n",
              "      <td>13.333333</td>\n",
              "    </tr>\n",
              "    <tr>\n",
              "      <th>7</th>\n",
              "      <td>Добавить форму подписки на все основные страницы, чтобы собрать базу клиентов для email-рассылок</td>\n",
              "      <td>11.200000</td>\n",
              "    </tr>\n",
              "    <tr>\n",
              "      <th>6</th>\n",
              "      <td>Показать на главной странице баннеры с актуальными акциями и распродажами, чтобы увеличить конверсию</td>\n",
              "      <td>8.000000</td>\n",
              "    </tr>\n",
              "    <tr>\n",
              "      <th>2</th>\n",
              "      <td>Добавить блоки рекомендаций товаров на сайт интернет магазина, чтобы повысить конверсию и средний чек заказа</td>\n",
              "      <td>7.000000</td>\n",
              "    </tr>\n",
              "    <tr>\n",
              "      <th>1</th>\n",
              "      <td>Запустить собственную службу доставки, что сократит срок доставки заказов</td>\n",
              "      <td>2.000000</td>\n",
              "    </tr>\n",
              "    <tr>\n",
              "      <th>5</th>\n",
              "      <td>Добавить страницу отзывов клиентов о магазине, что позволит увеличить количество заказов</td>\n",
              "      <td>1.333333</td>\n",
              "    </tr>\n",
              "    <tr>\n",
              "      <th>3</th>\n",
              "      <td>Изменить структура категорий, что увеличит конверсию, т.к. пользователи быстрее найдут нужный товар</td>\n",
              "      <td>1.125000</td>\n",
              "    </tr>\n",
              "    <tr>\n",
              "      <th>4</th>\n",
              "      <td>Изменить цвет фона главной страницы, чтобы увеличить вовлеченность пользователей</td>\n",
              "      <td>1.000000</td>\n",
              "    </tr>\n",
              "  </tbody>\n",
              "</table>\n",
              "</div>"
            ],
            "text/plain": [
              "                                                                                                     hypothesis  \\\n",
              "8                                                       Запустить акцию, дающую скидку на товар в день рождения   \n",
              "0            Добавить два новых канала привлечения трафика, что позволит привлекать на 30% больше пользователей   \n",
              "7              Добавить форму подписки на все основные страницы, чтобы собрать базу клиентов для email-рассылок   \n",
              "6          Показать на главной странице баннеры с актуальными акциями и распродажами, чтобы увеличить конверсию   \n",
              "2  Добавить блоки рекомендаций товаров на сайт интернет магазина, чтобы повысить конверсию и средний чек заказа   \n",
              "1                                     Запустить собственную службу доставки, что сократит срок доставки заказов   \n",
              "5                      Добавить страницу отзывов клиентов о магазине, что позволит увеличить количество заказов   \n",
              "3           Изменить структура категорий, что увеличит конверсию, т.к. пользователи быстрее найдут нужный товар   \n",
              "4                              Изменить цвет фона главной страницы, чтобы увеличить вовлеченность пользователей   \n",
              "\n",
              "         ise  \n",
              "8  16.200000  \n",
              "0  13.333333  \n",
              "7  11.200000  \n",
              "6   8.000000  \n",
              "2   7.000000  \n",
              "1   2.000000  \n",
              "5   1.333333  \n",
              "3   1.125000  \n",
              "4   1.000000  "
            ]
          },
          "execution_count": 17,
          "metadata": {},
          "output_type": "execute_result"
        }
      ],
      "source": [
        "hypothesis['ise'] = hypothesis['impact'] * hypothesis['confidence'] / hypothesis['efforts']\n",
        "\n",
        "hypothesis[['hypothesis', 'ise']].sort_values(by = 'ise', ascending = False)"
      ]
    },
    {
      "cell_type": "code",
      "execution_count": null,
      "metadata": {
        "id": "XluQ33RzLuE7",
        "outputId": "0087aa57-c3f0-4f7f-a050-7f0b27cca1d8"
      },
      "outputs": [
        {
          "data": {
            "text/html": [
              "<div>\n",
              "<style scoped>\n",
              "    .dataframe tbody tr th:only-of-type {\n",
              "        vertical-align: middle;\n",
              "    }\n",
              "\n",
              "    .dataframe tbody tr th {\n",
              "        vertical-align: top;\n",
              "    }\n",
              "\n",
              "    .dataframe thead th {\n",
              "        text-align: right;\n",
              "    }\n",
              "</style>\n",
              "<table border=\"1\" class=\"dataframe\">\n",
              "  <thead>\n",
              "    <tr style=\"text-align: right;\">\n",
              "      <th></th>\n",
              "      <th>hypothesis</th>\n",
              "      <th>rise</th>\n",
              "    </tr>\n",
              "  </thead>\n",
              "  <tbody>\n",
              "    <tr>\n",
              "      <th>7</th>\n",
              "      <td>Добавить форму подписки на все основные страницы, чтобы собрать базу клиентов для email-рассылок</td>\n",
              "      <td>112.0</td>\n",
              "    </tr>\n",
              "    <tr>\n",
              "      <th>2</th>\n",
              "      <td>Добавить блоки рекомендаций товаров на сайт интернет магазина, чтобы повысить конверсию и средний чек заказа</td>\n",
              "      <td>56.0</td>\n",
              "    </tr>\n",
              "    <tr>\n",
              "      <th>0</th>\n",
              "      <td>Добавить два новых канала привлечения трафика, что позволит привлекать на 30% больше пользователей</td>\n",
              "      <td>40.0</td>\n",
              "    </tr>\n",
              "    <tr>\n",
              "      <th>6</th>\n",
              "      <td>Показать на главной странице баннеры с актуальными акциями и распродажами, чтобы увеличить конверсию</td>\n",
              "      <td>40.0</td>\n",
              "    </tr>\n",
              "    <tr>\n",
              "      <th>8</th>\n",
              "      <td>Запустить акцию, дающую скидку на товар в день рождения</td>\n",
              "      <td>16.2</td>\n",
              "    </tr>\n",
              "    <tr>\n",
              "      <th>3</th>\n",
              "      <td>Изменить структура категорий, что увеличит конверсию, т.к. пользователи быстрее найдут нужный товар</td>\n",
              "      <td>9.0</td>\n",
              "    </tr>\n",
              "    <tr>\n",
              "      <th>1</th>\n",
              "      <td>Запустить собственную службу доставки, что сократит срок доставки заказов</td>\n",
              "      <td>4.0</td>\n",
              "    </tr>\n",
              "    <tr>\n",
              "      <th>5</th>\n",
              "      <td>Добавить страницу отзывов клиентов о магазине, что позволит увеличить количество заказов</td>\n",
              "      <td>4.0</td>\n",
              "    </tr>\n",
              "    <tr>\n",
              "      <th>4</th>\n",
              "      <td>Изменить цвет фона главной страницы, чтобы увеличить вовлеченность пользователей</td>\n",
              "      <td>3.0</td>\n",
              "    </tr>\n",
              "  </tbody>\n",
              "</table>\n",
              "</div>"
            ],
            "text/plain": [
              "                                                                                                     hypothesis  \\\n",
              "7              Добавить форму подписки на все основные страницы, чтобы собрать базу клиентов для email-рассылок   \n",
              "2  Добавить блоки рекомендаций товаров на сайт интернет магазина, чтобы повысить конверсию и средний чек заказа   \n",
              "0            Добавить два новых канала привлечения трафика, что позволит привлекать на 30% больше пользователей   \n",
              "6          Показать на главной странице баннеры с актуальными акциями и распродажами, чтобы увеличить конверсию   \n",
              "8                                                       Запустить акцию, дающую скидку на товар в день рождения   \n",
              "3           Изменить структура категорий, что увеличит конверсию, т.к. пользователи быстрее найдут нужный товар   \n",
              "1                                     Запустить собственную службу доставки, что сократит срок доставки заказов   \n",
              "5                      Добавить страницу отзывов клиентов о магазине, что позволит увеличить количество заказов   \n",
              "4                              Изменить цвет фона главной страницы, чтобы увеличить вовлеченность пользователей   \n",
              "\n",
              "    rise  \n",
              "7  112.0  \n",
              "2   56.0  \n",
              "0   40.0  \n",
              "6   40.0  \n",
              "8   16.2  \n",
              "3    9.0  \n",
              "1    4.0  \n",
              "5    4.0  \n",
              "4    3.0  "
            ]
          },
          "execution_count": 18,
          "metadata": {},
          "output_type": "execute_result"
        }
      ],
      "source": [
        "hypothesis['rise'] = hypothesis['reach'] * hypothesis['impact'] * hypothesis['confidence'] / hypothesis['efforts']\n",
        "\n",
        "hypothesis[['hypothesis', 'rise']].sort_values(by = 'rise', ascending = False)"
      ]
    },
    {
      "cell_type": "markdown",
      "metadata": {
        "id": "EJM1R_FkLuE8"
      },
      "source": [
        "Параметр Reach оценивает охват пользователей, поэтому очевидно,что в первом случае,когда не учитывали этот параметр лидировала гипотеза со скидкой в день рождения. В случае когда этот параметр учитывался, в лидеры вышли гипотезы которые охватывают максимальное количество пользователей."
      ]
    },
    {
      "cell_type": "markdown",
      "metadata": {
        "id": "Tlda0i73LuE-"
      },
      "source": [
        "# Анализ A/B-теста"
      ]
    },
    {
      "cell_type": "code",
      "execution_count": null,
      "metadata": {
        "id": "iXNA5fQXLuE_",
        "outputId": "b24072e7-9921-4b91-9083-ec0803617113"
      },
      "outputs": [
        {
          "data": {
            "text/html": [
              "<div>\n",
              "<style scoped>\n",
              "    .dataframe tbody tr th:only-of-type {\n",
              "        vertical-align: middle;\n",
              "    }\n",
              "\n",
              "    .dataframe tbody tr th {\n",
              "        vertical-align: top;\n",
              "    }\n",
              "\n",
              "    .dataframe thead th {\n",
              "        text-align: right;\n",
              "    }\n",
              "</style>\n",
              "<table border=\"1\" class=\"dataframe\">\n",
              "  <thead>\n",
              "    <tr style=\"text-align: right;\">\n",
              "      <th></th>\n",
              "      <th>visitor_id</th>\n",
              "    </tr>\n",
              "    <tr>\n",
              "      <th>group</th>\n",
              "      <th></th>\n",
              "    </tr>\n",
              "  </thead>\n",
              "  <tbody>\n",
              "    <tr>\n",
              "      <th>A</th>\n",
              "      <td>503</td>\n",
              "    </tr>\n",
              "    <tr>\n",
              "      <th>B</th>\n",
              "      <td>586</td>\n",
              "    </tr>\n",
              "  </tbody>\n",
              "</table>\n",
              "</div>"
            ],
            "text/plain": [
              "       visitor_id\n",
              "group            \n",
              "A             503\n",
              "B             586"
            ]
          },
          "execution_count": 19,
          "metadata": {},
          "output_type": "execute_result"
        }
      ],
      "source": [
        "# общее число покупателей по группам\n",
        "orders.groupby('group').agg({'visitor_id': 'nunique'})"
      ]
    },
    {
      "cell_type": "code",
      "execution_count": null,
      "metadata": {
        "id": "ZlsPlfvfLuE_",
        "outputId": "52b38176-96b5-4272-8146-a7d78890a128"
      },
      "outputs": [
        {
          "data": {
            "text/plain": [
              "1031"
            ]
          },
          "execution_count": 20,
          "metadata": {},
          "output_type": "execute_result"
        }
      ],
      "source": [
        "# всего покупателей\n",
        "orders['visitor_id'].nunique()"
      ]
    },
    {
      "cell_type": "markdown",
      "metadata": {
        "id": "bM6Qt0n9LuFA"
      },
      "source": [
        "Есть пользователи которые участвовали в двух группах одновременно.\n",
        "\n",
        "Мы можем теоретически отфильтровать пользователей в датасете  orders, но похоже, что у нас нет возможности сделать это в датасете visitors, тк там указывается только к какой группе относиться посетитель. \n",
        "\n",
        "Удаление и не удаление пересечений из orders - решения примерно одного уровня."
      ]
    },
    {
      "cell_type": "code",
      "execution_count": null,
      "metadata": {
        "id": "y-Ps5qJGLuFC",
        "outputId": "91d10bce-29e7-4848-8acf-ada38571574c"
      },
      "outputs": [
        {
          "data": {
            "text/plain": [
              "group\n",
              "1        973\n",
              "2         58\n",
              "dtype: int64"
            ]
          },
          "execution_count": 21,
          "metadata": {},
          "output_type": "execute_result"
        }
      ],
      "source": [
        "orders.groupby('visitor_id').agg({'group': 'nunique'}).value_counts()"
      ]
    },
    {
      "cell_type": "markdown",
      "metadata": {
        "id": "GWEZC3w3LuFD"
      },
      "source": [
        "\n",
        "Пользователей, которые в двух группах сразу состоят 58 человек. В целом ~ 6% от всех кто принимал участие в тесте. Думаю продолжим тест с ними.\n",
        "\n"
      ]
    },
    {
      "cell_type": "markdown",
      "metadata": {
        "id": "MVlVuEpzLuFD"
      },
      "source": [
        "1. Построим график кумулятивной выручки по группам. Сделаем выводы и предположения."
      ]
    },
    {
      "cell_type": "code",
      "execution_count": null,
      "metadata": {
        "id": "-ajNafn1LuFE",
        "outputId": "a840b7d9-7c61-4b02-c57c-6554f0ace23c"
      },
      "outputs": [
        {
          "data": {
            "image/png": "[encoded data removed]",
            "text/plain": [
              "<Figure size 1080x648 with 1 Axes>"
            ]
          },
          "metadata": {
            "needs_background": "light"
          },
          "output_type": "display_data"
        }
      ],
      "source": [
        "datesGroups = orders[['date', 'group']].drop_duplicates()\n",
        "\n",
        "ordersAggregated = datesGroups.apply(\n",
        "    lambda x: orders[\n",
        "        np.logical_and(\n",
        "            orders['date'] <= x['date'], orders['group'] == x['group']\n",
        "        )\n",
        "    ].agg(\n",
        "        {\n",
        "            'date': 'max',\n",
        "            'group': 'max',\n",
        "            'transaction_id': 'nunique',\n",
        "            'visitor_id': 'nunique',\n",
        "            'revenue': 'sum',\n",
        "        }\n",
        "    ),\n",
        "    axis=1,\n",
        ").sort_values(by=['date', 'group'])\n",
        "\n",
        "visitorsAggregated = datesGroups.apply(\n",
        "    lambda x: visitors[\n",
        "        np.logical_and(\n",
        "            visitors['date'] <= x['date'], visitors['group'] == x['group']\n",
        "        )\n",
        "    ].agg({'date': 'max', 'group': 'max', 'visitors': 'sum'}),\n",
        "    axis=1,\n",
        ").sort_values(by=['date', 'group'])\n",
        "\n",
        "cumulativeData = ordersAggregated.merge(\n",
        "    visitorsAggregated, left_on=['date', 'group'], right_on=['date', 'group']\n",
        ")\n",
        "cumulativeData.columns = [\n",
        "    'date',\n",
        "    'group',\n",
        "    'orders',\n",
        "    'buyers',\n",
        "    'revenue',\n",
        "    'visitors',\n",
        "]\n",
        "\n",
        "cumulativeRevenueA = cumulativeData[cumulativeData['group']=='A'][['date','revenue', 'orders']]\n",
        "\n",
        "\n",
        "cumulativeRevenueB = cumulativeData[cumulativeData['group']=='B'][['date','revenue', 'orders']]\n",
        "\n",
        "plt.figure(figsize=(15, 9))\n",
        "plt.plot(cumulativeRevenueA['date'], cumulativeRevenueA['revenue'], label='A')\n",
        "plt.plot(cumulativeRevenueB['date'], cumulativeRevenueB['revenue'], label='B')\n",
        "\n",
        "plt.title('Кумулятивная выручка по дням и группам A/B-тестирования')\n",
        "plt.xlabel('Дата')\n",
        "plt.ylabel('Выручка')\n",
        "plt.legend(['Группа А', 'Группа Б'])\n",
        "plt.show()"
      ]
    },
    {
      "cell_type": "markdown",
      "metadata": {
        "id": "aETOO0WFLuFF"
      },
      "source": [
        "В целом графики нормальные, за исключением резкого скачка в группе Б. Либо одна очень крупная покупка, либо просто очень много покупок 18 августа. Явно аномальный скачок, дальше разберемся,что это."
      ]
    },
    {
      "cell_type": "markdown",
      "metadata": {
        "id": "CNdtbD8jLuFF"
      },
      "source": [
        "2. Построим график кумулятивного среднего чека по группам. Сделаем выводы и предположения."
      ]
    },
    {
      "cell_type": "code",
      "execution_count": null,
      "metadata": {
        "id": "nks3RKVnLuFG",
        "outputId": "43983c3b-fe12-47d6-e366-343ad372b36f"
      },
      "outputs": [
        {
          "data": {
            "image/png": "[encoded data removed]",
            "text/plain": [
              "<Figure size 1080x648 with 1 Axes>"
            ]
          },
          "metadata": {
            "needs_background": "light"
          },
          "output_type": "display_data"
        }
      ],
      "source": [
        "plt.figure(figsize=(15, 9))\n",
        "plt.plot(cumulativeRevenueA['date'], cumulativeRevenueA['revenue']/cumulativeRevenueA['orders'], label='A')\n",
        "plt.plot(cumulativeRevenueB['date'], cumulativeRevenueB['revenue']/cumulativeRevenueB['orders'], label='B')\n",
        "plt.title('Кумулятивный средний чек по дням и группам A/B-тестирования')\n",
        "plt.xlabel('Дата')\n",
        "plt.ylabel('Средний чек')\n",
        "plt.legend(['Группа А', 'Группа Б'])\n",
        "plt.show()"
      ]
    },
    {
      "cell_type": "markdown",
      "metadata": {
        "id": "Xng4CREwLuFG"
      },
      "source": [
        "В принципе графики стабилизировались, но опять же в группе Б эта аномалия примерно 18 августа.\n",
        "\n",
        "Нужно отметить, что в группе Б кумулятивный средний чек снижается потому что приходит в себя после скачка 18 августа - приходит в норму."
      ]
    },
    {
      "cell_type": "markdown",
      "metadata": {
        "id": "seYvXwwPLuFJ"
      },
      "source": [
        "3. Построим график относительного изменения кумулятивного среднего чека группы B к группе A. Сделаем выводы и предположения."
      ]
    },
    {
      "cell_type": "code",
      "execution_count": null,
      "metadata": {
        "id": "Zn8oIj-cLuFJ",
        "outputId": "4c0dd7ae-21c2-4b21-82c0-4321bca60572"
      },
      "outputs": [
        {
          "data": {
            "text/plain": [
              "Text(0.5, 1.0, 'График относительного различия кумулятивного среднего чека группы B к группе А')"
            ]
          },
          "execution_count": 24,
          "metadata": {},
          "output_type": "execute_result"
        },
        {
          "data": {
            "image/png": "[encoded data removed]",
            "text/plain": [
              "<Figure size 1080x648 with 1 Axes>"
            ]
          },
          "metadata": {
            "needs_background": "light"
          },
          "output_type": "display_data"
        }
      ],
      "source": [
        "mergedCumulativeRevenue = cumulativeRevenueA.merge(\n",
        "    cumulativeRevenueB, left_on='date', right_on='date', how='left', suffixes=['A', 'B']\n",
        ")\n",
        "plt.figure(figsize=(15, 9))\n",
        "plt.plot(\n",
        "    mergedCumulativeRevenue['date'],\n",
        "    (mergedCumulativeRevenue['revenueB']/mergedCumulativeRevenue['ordersB'])/(mergedCumulativeRevenue['revenueA']/mergedCumulativeRevenue['ordersA'])-1\n",
        ")\n",
        "plt.axhline(y=0, color='black', linestyle='--') \n",
        "plt.title('График относительного различия кумулятивного среднего чека группы B к группе А')"
      ]
    },
    {
      "cell_type": "markdown",
      "metadata": {
        "id": "baxLen0aLuFK"
      },
      "source": [
        "Та же картина, резкий скачок в группе Б"
      ]
    },
    {
      "cell_type": "markdown",
      "metadata": {
        "id": "d_HBRWAOLuFM"
      },
      "source": [
        "4. Построим график кумулятивной конверсии по группам. Сделаем выводы и предположения."
      ]
    },
    {
      "cell_type": "code",
      "execution_count": null,
      "metadata": {
        "id": "oL5eYfD1LuFM",
        "outputId": "18dd0a06-2e7c-4491-9976-2e303376e6a8"
      },
      "outputs": [
        {
          "data": {
            "text/plain": [
              "<function matplotlib.pyplot.show(close=None, block=None)>"
            ]
          },
          "execution_count": 25,
          "metadata": {},
          "output_type": "execute_result"
        },
        {
          "data": {
            "image/png": "[encoded data removed]",
            "text/plain": [
              "<Figure size 1080x648 with 1 Axes>"
            ]
          },
          "metadata": {
            "needs_background": "light"
          },
          "output_type": "display_data"
        }
      ],
      "source": [
        "cumulativeData['conversion'] = cumulativeData['orders']/cumulativeData['visitors']\n",
        "cumulativeDataA = cumulativeData[cumulativeData['group']=='A']\n",
        "cumulativeDataB = cumulativeData[cumulativeData['group']=='B']\n",
        "\n",
        "plt.figure(figsize=(15, 9))\n",
        "plt.plot(cumulativeDataA['date'], cumulativeDataA['conversion'], label='A')\n",
        "plt.plot(cumulativeDataB['date'], cumulativeDataB['conversion'], label='B')\n",
        "plt.title('Кумулятивная конверсия по дням и группам A/B-тестирования')\n",
        "plt.show"
      ]
    },
    {
      "cell_type": "markdown",
      "metadata": {
        "id": "0F-wYYNfLuFN"
      },
      "source": [
        "Группа Б показывает лучшие результаты, графики стабилизировались."
      ]
    },
    {
      "cell_type": "markdown",
      "metadata": {
        "id": "TjeosK_nLuFO"
      },
      "source": [
        "5. Построим график относительного изменения кумулятивной конверсии группы B к группе A. Сделаем выводы и предположения."
      ]
    },
    {
      "cell_type": "code",
      "execution_count": null,
      "metadata": {
        "id": "kJ81QGtMLuFO",
        "outputId": "6a5b6485-52c3-4e36-f13d-5c91351eff5b"
      },
      "outputs": [
        {
          "data": {
            "text/plain": [
              "<function matplotlib.pyplot.show(close=None, block=None)>"
            ]
          },
          "execution_count": 26,
          "metadata": {},
          "output_type": "execute_result"
        },
        {
          "data": {
            "image/png": "[encoded data removed]",
            "text/plain": [
              "<Figure size 1080x648 with 1 Axes>"
            ]
          },
          "metadata": {
            "needs_background": "light"
          },
          "output_type": "display_data"
        }
      ],
      "source": [
        "mergedCumulativeConversions = cumulativeDataA[['date','conversion']].merge(cumulativeDataB[['date','conversion']], left_on='date', right_on='date', how='left', suffixes=['A', 'B'])\n",
        "\n",
        "plt.figure(figsize=(15, 9))\n",
        "plt.plot(mergedCumulativeConversions['date'], mergedCumulativeConversions['conversionB']/mergedCumulativeConversions['conversionA']-1, label=\"Относительный прирост конверсии группы B относительно группы A\")\n",
        "plt.title('Изменение кумулятивной конверсии группы B к группе A.')\n",
        "plt.axhline(y=0, color='black', linestyle='--')\n",
        "plt.show"
      ]
    },
    {
      "cell_type": "markdown",
      "metadata": {
        "id": "x830mQIwLuFP"
      },
      "source": [
        "Та же картина: конверсия в группе Б стабильно выше, чем группе А.\n",
        "\n",
        "Куммулятивная конверсия в группе Б примерно на 15% выше чем в группе А.  "
      ]
    },
    {
      "cell_type": "markdown",
      "metadata": {
        "id": "7HJMKOZULuFR"
      },
      "source": [
        "6. Построим точечный график количества заказов по пользователям. Сделаем выводы и предположения."
      ]
    },
    {
      "cell_type": "code",
      "execution_count": null,
      "metadata": {
        "id": "FaEYcdZ7LuFS",
        "outputId": "62b7004b-0d84-4908-b1b4-d898428c3dba"
      },
      "outputs": [
        {
          "data": {
            "text/plain": [
              "<function matplotlib.pyplot.show(close=None, block=None)>"
            ]
          },
          "execution_count": 27,
          "metadata": {},
          "output_type": "execute_result"
        },
        {
          "data": {
            "image/png": "[encoded data removed]",
            "text/plain": [
              "<Figure size 1080x648 with 1 Axes>"
            ]
          },
          "metadata": {
            "needs_background": "light"
          },
          "output_type": "display_data"
        }
      ],
      "source": [
        "ordersByUsers = (orders.groupby('visitor_id', as_index=False).agg({'transaction_id': 'nunique'}))\n",
        "ordersByUsers.columns = ['visitor_id', 'orders']\n",
        "x_values = pd.Series(range(0, len(ordersByUsers)))\n",
        "plt.figure(figsize=(15, 9))\n",
        "plt.title('Количество заказов по пользователям')\n",
        "plt.xlabel('Пользователи')\n",
        "plt.ylabel('Заказы')\n",
        "plt.scatter(x_values, ordersByUsers['orders']) \n",
        "plt.show"
      ]
    },
    {
      "cell_type": "markdown",
      "metadata": {
        "id": "KFGyvj6lLuFV"
      },
      "source": [
        "Видно,что в основная масса пользователей совершает не более трех заказов, хотя есть и рекордсмены, у них больше 10."
      ]
    },
    {
      "cell_type": "markdown",
      "metadata": {
        "id": "cebD1tgnLuFV"
      },
      "source": [
        "7. Посчитаем 95-й и 99-й перцентили количества заказов на пользователя. Выберем границу для определения аномальных пользователей."
      ]
    },
    {
      "cell_type": "code",
      "execution_count": null,
      "metadata": {
        "id": "SdwRXHeGLuFW",
        "outputId": "e262dc12-637d-4958-96d4-8f701c22cf11"
      },
      "outputs": [
        {
          "data": {
            "text/plain": [
              "array([1., 2., 3., 4.])"
            ]
          },
          "execution_count": 28,
          "metadata": {},
          "output_type": "execute_result"
        }
      ],
      "source": [
        "np.percentile(ordersByUsers['orders'], [90, 95, 97.5, 99])"
      ]
    },
    {
      "cell_type": "markdown",
      "metadata": {
        "id": "-wX1d5v1LuFW"
      },
      "source": [
        "Возьмем 97,5 перцениль, это три заказа, их и будем считать верхней границей нормы."
      ]
    },
    {
      "cell_type": "markdown",
      "metadata": {
        "id": "X1a1sVYQLuFY"
      },
      "source": [
        "8. Построим точечный график стоимостей заказов. Сделаем выводы и предположения."
      ]
    },
    {
      "cell_type": "code",
      "execution_count": null,
      "metadata": {
        "id": "2sGUgXuiLuFY",
        "outputId": "a1e6c585-47a4-4581-86ee-4d3150e4f584"
      },
      "outputs": [
        {
          "data": {
            "text/plain": [
              "<function matplotlib.pyplot.show(close=None, block=None)>"
            ]
          },
          "execution_count": 29,
          "metadata": {},
          "output_type": "execute_result"
        },
        {
          "data": {
            "image/png": "[encoded data removed]",
            "text/plain": [
              "<Figure size 1080x648 with 1 Axes>"
            ]
          },
          "metadata": {
            "needs_background": "light"
          },
          "output_type": "display_data"
        }
      ],
      "source": [
        "x_values = pd.Series(range(0, len(orders['revenue'])))\n",
        "\n",
        "plt.figure(figsize=(15, 9))\n",
        "plt.title('Количество заказов по пользователям')\n",
        "plt.xlabel('Пользователи')\n",
        "plt.ylabel('Заказы')\n",
        "plt.scatter(x_values, orders['revenue']) \n",
        "plt.show"
      ]
    },
    {
      "cell_type": "markdown",
      "metadata": {
        "id": "YluI_rriLuFZ"
      },
      "source": [
        "Похоже это та покупка, которая сбивала графики выше, похоже что аномалия это разовая покупка за 1 200 000. Из- за нее не рассмотреть, что происходит в основной группе заказов. Отфильтруем ее."
      ]
    },
    {
      "cell_type": "code",
      "execution_count": null,
      "metadata": {
        "id": "tf3eUvZ9LuFa",
        "outputId": "dac02db0-857b-42c8-d149-073389776fef"
      },
      "outputs": [
        {
          "data": {
            "text/plain": [
              "<function matplotlib.pyplot.show(close=None, block=None)>"
            ]
          },
          "execution_count": 30,
          "metadata": {},
          "output_type": "execute_result"
        },
        {
          "data": {
            "image/png": "[encoded data removed]",
            "text/plain": [
              "<Figure size 1080x648 with 1 Axes>"
            ]
          },
          "metadata": {
            "needs_background": "light"
          },
          "output_type": "display_data"
        }
      ],
      "source": [
        "x_values = pd.Series(range(0, len(orders[orders['revenue'] < 200000]['revenue'])))\n",
        " \n",
        "plt.figure(figsize=(15, 9))\n",
        "plt.title('Стоимость заказов по пользователям')\n",
        "plt.xlabel('Пользователи')\n",
        "plt.ylabel('Стоимость')\n",
        "plt.scatter(x_values, orders[orders['revenue'] < 200000]['revenue']) \n",
        "plt.show"
      ]
    },
    {
      "cell_type": "markdown",
      "metadata": {
        "id": "kH2a5AcZLuFb"
      },
      "source": [
        "Теперь видно, что основная масса заказов меньше 20 000. Но чтобы точнее понять посмотрим перцентили"
      ]
    },
    {
      "cell_type": "markdown",
      "metadata": {
        "id": "6d6edggCLuFb"
      },
      "source": [
        "9. Посчитаем 95-й и 99-й перцентили стоимости заказов. Выберем границу для определения аномальных заказов."
      ]
    },
    {
      "cell_type": "code",
      "execution_count": null,
      "metadata": {
        "id": "d2VsJWZXLuFc",
        "outputId": "de85b713-af57-4166-bbd0-8aec926e6349"
      },
      "outputs": [
        {
          "data": {
            "text/plain": [
              "array([18168. , 28000. , 39530. , 58233.2])"
            ]
          },
          "execution_count": 31,
          "metadata": {},
          "output_type": "execute_result"
        }
      ],
      "source": [
        "np.percentile(orders['revenue'], [90, 95, 97.5, 99])"
      ]
    },
    {
      "cell_type": "markdown",
      "metadata": {
        "id": "vr37Pm-OLuFc"
      },
      "source": [
        "Граница в 40 000 будет в самый раз."
      ]
    },
    {
      "cell_type": "markdown",
      "metadata": {
        "id": "xUihuZcgLuFd"
      },
      "source": [
        "10. Посчитаем статистическую значимость различий в конверсии между группами по «сырым» данным. Сделаем выводы и предположения."
      ]
    },
    {
      "cell_type": "markdown",
      "metadata": {
        "id": "xjwlT_qKLuFd"
      },
      "source": [
        "<div class=\"alert alert-info\">\n",
        "<b> Комментарий студента</b>\n",
        "\n",
        "Согласен.\n",
        "    \n",
        "Н0 - Разницы в конверсии между группами А и Б нет.\n",
        "    \n",
        "Н1 - Есть статистически значимое отличие в конверсии между группами А и Б.\n",
        "    \n",
        "Alpha = 0.05. Метод: U-критерий Манна — Уитни.\n",
        "</div>"
      ]
    },
    {
      "cell_type": "code",
      "execution_count": null,
      "metadata": {
        "id": "Rc37hLnuLuFe",
        "outputId": "fe7c3cec-3700-4358-954c-29461f75c85f"
      },
      "outputs": [
        {
          "name": "stdout",
          "output_type": "stream",
          "text": [
            "p-value:\n",
            "0.01679\n",
            "Относительная разница между группами А и Б:\n",
            "0.13808\n"
          ]
        }
      ],
      "source": [
        "ordersByUsersA = orders[orders['group']=='A'].groupby('visitor_id', as_index=False).agg({'transaction_id' : pd.Series.nunique})\n",
        "ordersByUsersA.columns = ['visitor_id', 'orders']\n",
        " \n",
        "ordersByUsersB = orders[orders['group']=='B'].groupby('visitor_id', as_index=False).agg({'transaction_id' : pd.Series.nunique})\n",
        "ordersByUsersB.columns = ['visitor_id', 'orders']\n",
        " \n",
        "sampleA = pd.concat(\n",
        "    [ordersByUsersA['orders'],\n",
        "     pd.Series(0, index=np.arange(visitors[visitors['group']=='A']['visitors'].sum() - len(ordersByUsersA['orders'])\n",
        "                                 ), name='orders')],axis=0)\n",
        "sampleB = pd.concat(\n",
        "    [ordersByUsersB['orders'],\n",
        "     pd.Series(0, index=np.arange(visitors[visitors['group']=='B']['visitors'].sum() - len(ordersByUsersB['orders'])\n",
        "                                 ), name='orders')],axis=0)\n",
        "print('p-value:') \n",
        "print(\"{0:.5f}\".format(stats.mannwhitneyu(sampleA, sampleB)[1]))\n",
        "print('Относительная разница между группами А и Б:')\n",
        "print(\"{0:.5f}\".format(sampleB.mean()/sampleA.mean()-1))"
      ]
    },
    {
      "cell_type": "markdown",
      "metadata": {
        "id": "kzpvjuzILuFh"
      },
      "source": [
        "p-value меньше 0.05 - значит есть статистически значимое отличие в конверсии между тестируемыми группами\n",
        "Относительное различие почти 14%"
      ]
    },
    {
      "cell_type": "markdown",
      "metadata": {
        "id": "qQdrTs0mLuFh"
      },
      "source": [
        "11. Посчитаем статистическую значимость различий в среднем чеке заказа между группами по «сырым» данным. Сделаем выводы и предположения."
      ]
    },
    {
      "cell_type": "markdown",
      "metadata": {
        "id": "bgXk03GLLuFi"
      },
      "source": [
        "<div class=\"alert alert-info\">\n",
        "<b> Комментарий студента</b>\n",
        "\n",
        "Н0 - Разницы в среднем чеке между группами А и Б нет.\n",
        "\n",
        "Н1 - Есть статистически значимое отличие в среднем чеке между группами А и Б.\n",
        "\n",
        "Alpha = 0.05. Метод: U-критерий Манна — Уитни.\n",
        "</div>"
      ]
    },
    {
      "cell_type": "code",
      "execution_count": null,
      "metadata": {
        "id": "i7hLOuXYLuFi",
        "outputId": "58a6f31a-9c47-430e-b789-62f7e525edc4"
      },
      "outputs": [
        {
          "name": "stdout",
          "output_type": "stream",
          "text": [
            "p-value:\n",
            "0.72929\n",
            "Относительная разница между группами А и Б:\n",
            "0.25871\n"
          ]
        }
      ],
      "source": [
        "print('p-value:')\n",
        "print(\"{0:.5f}\".format(stats.mannwhitneyu(orders[orders['group']=='A']['revenue'], orders[orders['group']=='B']['revenue'])[1]))\n",
        "print('Относительная разница между группами А и Б:')\n",
        "print(\"{0:.5f}\".format(orders[orders['group']=='B']['revenue'].mean()/orders[orders['group']=='A']['revenue'].mean()-1))"
      ]
    },
    {
      "cell_type": "markdown",
      "metadata": {
        "id": "9JEa3T-_LuFi"
      },
      "source": [
        "p-value больше 0.05 - значит статистически значимого отличия в среднем чеке между тестируемыми группами нет. Хотя различий в среднем чеке заказа между группами А и В нет, а наблюдаемое превышение среднего чека группы В на 25,9% не является значимым, получено случайно."
      ]
    },
    {
      "cell_type": "markdown",
      "metadata": {
        "id": "TPVXJQ7cLuFk"
      },
      "source": [
        "12. Посчитаем статистическую значимость различий в конверсии между группами по «очищенным» данным. Сделаем выводы и предположения."
      ]
    },
    {
      "cell_type": "markdown",
      "metadata": {
        "id": "Dv0UDe56LuFk"
      },
      "source": [
        "Фильтруем данные, аномальные - те кто совершил три заказа и более, и пользователей , совершивших заказы дороже 40 000:"
      ]
    },
    {
      "cell_type": "markdown",
      "metadata": {
        "id": "65Kge99yLuFl"
      },
      "source": [
        "<div class=\"alert alert-info\">\n",
        "<b> Комментарий студента</b>\n",
        "\n",
        "Н0 - Разницы в конверсии между группами А и Б нет.\n",
        "\n",
        "Н1 - Есть статистически значимое отличие в конверсии между группами А и Б.\n",
        "\n",
        "Alpha = 0.05. Метод: U-критерий Манна — Уитни.\n",
        "</div>"
      ]
    },
    {
      "cell_type": "code",
      "execution_count": null,
      "metadata": {
        "id": "cyerAbmxLuFo"
      },
      "outputs": [],
      "source": [
        "usersWithManyOrders = pd.concat(\n",
        "    [\n",
        "        ordersByUsersA[ordersByUsersA['orders'] > 3]['visitor_id'],\n",
        "        ordersByUsersB[ordersByUsersB['orders'] > 3]['visitor_id'],\n",
        "    ],\n",
        "    axis=0,\n",
        ")\n",
        "usersWithExpensiveOrders = orders[orders['revenue'] > 40000]['visitor_id']\n",
        "abnormalUsers = (\n",
        "    pd.concat([usersWithManyOrders, usersWithExpensiveOrders], axis=0)\n",
        "    .drop_duplicates()\n",
        "    .sort_values()\n",
        ")"
      ]
    },
    {
      "cell_type": "code",
      "execution_count": null,
      "metadata": {
        "id": "h3SHD4o4LuFp"
      },
      "outputs": [],
      "source": [
        "sampleAFiltered = pd.concat(\n",
        "    [\n",
        "        ordersByUsersA[\n",
        "            np.logical_not(ordersByUsersA['visitor_id'].isin(abnormalUsers))\n",
        "        ]['orders'],\n",
        "        pd.Series(\n",
        "            0,\n",
        "            index=np.arange(\n",
        "                visitorsADaily['visitorsPerDateA'].sum() - len(ordersByUsersA['orders'])\n",
        "            ),\n",
        "            name='orders',\n",
        "        ),\n",
        "    ],\n",
        "    axis=0,\n",
        ")\n",
        "\n",
        "sampleBFiltered = pd.concat(\n",
        "    [\n",
        "        ordersByUsersB[\n",
        "            np.logical_not(ordersByUsersB['visitor_id'].isin(abnormalUsers))\n",
        "        ]['orders'],\n",
        "        pd.Series(\n",
        "            0,\n",
        "            index=np.arange(\n",
        "                visitorsBDaily['visitorsPerDateB'].sum() - len(ordersByUsersB['orders'])\n",
        "            ),\n",
        "            name='orders',\n",
        "        ),\n",
        "    ],\n",
        "    axis=0,\n",
        ") "
      ]
    },
    {
      "cell_type": "code",
      "execution_count": null,
      "metadata": {
        "id": "9H0kAKB3LuFq",
        "outputId": "57662168-1c3d-4a83-f822-d220d64dfce0"
      },
      "outputs": [
        {
          "name": "stdout",
          "output_type": "stream",
          "text": [
            "p-value:\n",
            "0.00931\n",
            "Относительная разница между группами А и Б:\n",
            "0.16369\n"
          ]
        }
      ],
      "source": [
        "print('p-value:')\n",
        "print('{0:.5f}'.format(stats.mannwhitneyu(sampleAFiltered, sampleBFiltered)[1]))\n",
        "print('Относительная разница между группами А и Б:')\n",
        "print('{0:.5f}'.format(sampleBFiltered.mean()/sampleAFiltered.mean()-1)) "
      ]
    },
    {
      "cell_type": "markdown",
      "metadata": {
        "id": "QJojm7FnLuFr"
      },
      "source": [
        "p-value меньше 0.05 - значит есть статистически значимое отличие в конверсии между тестируемыми группами и на очищенных данных. Относительное различие почти 16%, а было 14%."
      ]
    },
    {
      "cell_type": "markdown",
      "metadata": {
        "id": "rOz1V26ZLuFr"
      },
      "source": [
        "13. Посчитаем статистическую значимость различий в среднем чеке заказа между группами по «очищенным» данным. Сделаем выводы и предположения."
      ]
    },
    {
      "cell_type": "markdown",
      "metadata": {
        "id": "RdOebqiRLuFs"
      },
      "source": [
        "<div class=\"alert alert-info\">\n",
        "<b> Комментарий студента</b>\n",
        "\n",
        "Н0 - Разницы в среднем чеке между группами А и Б нет.\n",
        "\n",
        "Н1 - Есть статистически значимое отличие в среднем чеке между группами А и Б.\n",
        "\n",
        "Alpha = 0.05. Метод: U-критерий Манна — Уитни.\n",
        "</div>"
      ]
    },
    {
      "cell_type": "code",
      "execution_count": null,
      "metadata": {
        "id": "Pf3Tx0CnLuFs",
        "outputId": "5c20e3b6-1ef3-465d-9918-01d9a5ffdaf9"
      },
      "outputs": [
        {
          "name": "stdout",
          "output_type": "stream",
          "text": [
            "p-value:\n",
            "0.71098\n",
            "Относительная разница между группами А и Б:\n",
            "0.06040\n"
          ]
        }
      ],
      "source": [
        "print('p-value:')\n",
        "print(\n",
        "    '{0:.5f}'.format(\n",
        "        stats.mannwhitneyu(\n",
        "            orders[\n",
        "                np.logical_and(\n",
        "                    orders['group'] == 'A',\n",
        "                    np.logical_not(orders['visitor_id'].isin(abnormalUsers)),\n",
        "                )\n",
        "            ]['revenue'],\n",
        "            orders[\n",
        "                np.logical_and(\n",
        "                    orders['group'] == 'B',\n",
        "                    np.logical_not(orders['visitor_id'].isin(abnormalUsers)),\n",
        "                )\n",
        "            ]['revenue'],\n",
        "        )[1]\n",
        "    )\n",
        ")\n",
        "print('Относительная разница между группами А и Б:')\n",
        "print(\n",
        "    \"{0:.5f}\".format(\n",
        "        orders[\n",
        "            np.logical_and(\n",
        "                orders['group'] == 'B',\n",
        "                np.logical_not(orders['visitor_id'].isin(abnormalUsers)),\n",
        "            )\n",
        "        ]['revenue'].mean()\n",
        "        / orders[\n",
        "            np.logical_and(\n",
        "                orders['group'] == 'A',\n",
        "                np.logical_not(orders['visitor_id'].isin(abnormalUsers)),\n",
        "            )\n",
        "        ]['revenue'].mean()\n",
        "        - 1\n",
        "    )\n",
        ")"
      ]
    },
    {
      "cell_type": "markdown",
      "metadata": {
        "id": "87o_NhUNLuFt"
      },
      "source": [
        "p-value больше 0.05 - значит статистически значимого отличия в среднем чеке между тестируемыми группами нет и в случае очищенных данных. Хотя тносительное различие теперь около 6%"
      ]
    },
    {
      "cell_type": "markdown",
      "metadata": {
        "id": "c7q1y6RgLuFu"
      },
      "source": [
        "14. Примите решение по результатам теста и объясните его. Варианты решений: 1. Остановить тест, зафиксировать победу одной из групп. 2. Остановить тест, зафиксировать отсутствие различий между группами. 3. Продолжить тест."
      ]
    },
    {
      "cell_type": "markdown",
      "metadata": {
        "id": "3_Mg14JsLuFv"
      },
      "source": [
        "В итоге по \"сырым\" данным получили:\n",
        "Конверсия:\n",
        "p-value: 0.01679\n",
        "Относительная разница между группами: 0.13808\n",
        "p-value меньше 0.05 - значит есть статистически значимое отличие в конверсии между тестируемыми группами. Относительное различие почти 14%\n",
        "Средний чек:\n",
        "p-value: 0.72929\n",
        "Относительная разница между группами: 0.25871\n",
        "p-value больше 0.05 - значит статистически значимого отличия в среднем чеке между тестируемыми группами нет. Хотя относительное различие больше 25%\n",
        "\n",
        "Очищенные данные:\n",
        "Конверсия:\n",
        "p-value: 0.00931\n",
        "Относительная разница между группами: 0.16369\n",
        "p-value меньше 0.05 - значит есть статистически значимое отличие в конверсии между тестируемыми группами и на очищенных данных. Относительное различие почти 16%, а было 14%.\n",
        "СРедний чек:\n",
        "p-value: 0.71098\n",
        "Относительная разница между группами: 0.06040\n",
        "p-value больше 0.05 - значит статистически значимого отличия в среднем чеке между тестируемыми группами нет и в случае очищенных данных. Хотя относительное различие теперь около 6%\n",
        "\n",
        "После того, как убрали очень дорогие заказы, разница в среднем чеке стала не такой значительной, но конверсия и на \"сырых\" и на очищенных данных различается значимо. Средний чек особо между группами не различается, но конверсия значительно лучше у группы Б. Думаю тест можно останавливать, группа Б победила."
      ]
    },
    {
      "cell_type": "code",
      "execution_count": null,
      "metadata": {
        "id": "7Dma8DX7LuFw"
      },
      "outputs": [],
      "source": []
    }
  ],
  "metadata": {
    "ExecuteTimeLog": [
      {
        "duration": 441,
        "start_time": "2022-09-29T10:24:45.707Z"
      },
      {
        "duration": 78,
        "start_time": "2022-09-29T10:26:32.088Z"
      },
      {
        "duration": 160,
        "start_time": "2022-09-29T10:26:40.881Z"
      },
      {
        "duration": 187,
        "start_time": "2022-09-29T10:26:48.793Z"
      },
      {
        "duration": 15,
        "start_time": "2022-09-29T10:26:59.137Z"
      },
      {
        "duration": 11,
        "start_time": "2022-09-29T10:27:12.979Z"
      },
      {
        "duration": 8,
        "start_time": "2022-09-29T10:27:30.353Z"
      },
      {
        "duration": 9,
        "start_time": "2022-09-29T10:28:36.754Z"
      },
      {
        "duration": 5,
        "start_time": "2022-09-29T10:30:42.581Z"
      },
      {
        "duration": 5,
        "start_time": "2022-09-29T10:31:19.516Z"
      },
      {
        "duration": 5,
        "start_time": "2022-09-29T10:31:54.928Z"
      },
      {
        "duration": 13,
        "start_time": "2022-09-29T10:33:11.362Z"
      },
      {
        "duration": 7,
        "start_time": "2022-09-29T10:33:21.041Z"
      },
      {
        "duration": 8,
        "start_time": "2022-09-29T10:34:00.589Z"
      },
      {
        "duration": 8,
        "start_time": "2022-09-29T10:34:09.079Z"
      },
      {
        "duration": 5,
        "start_time": "2022-09-29T10:34:21.246Z"
      },
      {
        "duration": 7,
        "start_time": "2022-09-29T10:34:34.670Z"
      },
      {
        "duration": 7,
        "start_time": "2022-09-29T10:43:30.984Z"
      },
      {
        "duration": 421,
        "start_time": "2022-09-29T10:43:36.613Z"
      },
      {
        "duration": 74,
        "start_time": "2022-09-29T10:43:37.035Z"
      },
      {
        "duration": 19,
        "start_time": "2022-09-29T10:43:37.111Z"
      },
      {
        "duration": 12,
        "start_time": "2022-09-29T10:43:37.132Z"
      },
      {
        "duration": 18,
        "start_time": "2022-09-29T10:43:37.147Z"
      },
      {
        "duration": 12,
        "start_time": "2022-09-29T10:43:37.167Z"
      },
      {
        "duration": 6,
        "start_time": "2022-09-29T10:43:37.180Z"
      },
      {
        "duration": 26,
        "start_time": "2022-09-29T10:43:37.188Z"
      },
      {
        "duration": 11,
        "start_time": "2022-09-29T10:43:37.215Z"
      },
      {
        "duration": 9,
        "start_time": "2022-09-29T10:43:37.227Z"
      },
      {
        "duration": 9,
        "start_time": "2022-09-29T10:43:37.237Z"
      },
      {
        "duration": 11,
        "start_time": "2022-09-29T10:43:37.247Z"
      },
      {
        "duration": 6,
        "start_time": "2022-09-29T10:43:37.260Z"
      },
      {
        "duration": 6,
        "start_time": "2022-09-29T10:43:37.268Z"
      },
      {
        "duration": 4,
        "start_time": "2022-09-29T10:47:51.711Z"
      },
      {
        "duration": 69,
        "start_time": "2022-09-29T10:48:48.067Z"
      },
      {
        "duration": 431,
        "start_time": "2022-09-29T10:49:06.283Z"
      },
      {
        "duration": 74,
        "start_time": "2022-09-29T10:49:06.715Z"
      },
      {
        "duration": 14,
        "start_time": "2022-09-29T10:49:06.791Z"
      },
      {
        "duration": 10,
        "start_time": "2022-09-29T10:49:06.807Z"
      },
      {
        "duration": 8,
        "start_time": "2022-09-29T10:49:06.819Z"
      },
      {
        "duration": 18,
        "start_time": "2022-09-29T10:49:06.828Z"
      },
      {
        "duration": 23,
        "start_time": "2022-09-29T10:49:06.848Z"
      },
      {
        "duration": 12,
        "start_time": "2022-09-29T10:49:06.873Z"
      },
      {
        "duration": 7,
        "start_time": "2022-09-29T10:49:06.886Z"
      },
      {
        "duration": 6,
        "start_time": "2022-09-29T10:49:06.894Z"
      },
      {
        "duration": 9,
        "start_time": "2022-09-29T10:49:06.901Z"
      },
      {
        "duration": 8,
        "start_time": "2022-09-29T10:49:06.911Z"
      },
      {
        "duration": 13,
        "start_time": "2022-09-29T10:49:06.920Z"
      },
      {
        "duration": 8,
        "start_time": "2022-09-29T10:49:06.935Z"
      },
      {
        "duration": 9,
        "start_time": "2022-09-29T10:49:06.944Z"
      },
      {
        "duration": 8,
        "start_time": "2022-09-29T10:49:06.954Z"
      },
      {
        "duration": 101,
        "start_time": "2022-09-29T10:49:06.964Z"
      },
      {
        "duration": 15,
        "start_time": "2022-09-29T10:49:15.982Z"
      },
      {
        "duration": 15,
        "start_time": "2022-09-29T10:58:23.881Z"
      },
      {
        "duration": 370,
        "start_time": "2022-09-29T11:02:06.065Z"
      },
      {
        "duration": 76,
        "start_time": "2022-09-29T11:02:06.437Z"
      },
      {
        "duration": 14,
        "start_time": "2022-09-29T11:02:06.514Z"
      },
      {
        "duration": 12,
        "start_time": "2022-09-29T11:02:06.529Z"
      },
      {
        "duration": 11,
        "start_time": "2022-09-29T11:02:06.543Z"
      },
      {
        "duration": 9,
        "start_time": "2022-09-29T11:02:06.556Z"
      },
      {
        "duration": 21,
        "start_time": "2022-09-29T11:02:06.566Z"
      },
      {
        "duration": 24,
        "start_time": "2022-09-29T11:02:06.589Z"
      },
      {
        "duration": 7,
        "start_time": "2022-09-29T11:02:06.615Z"
      },
      {
        "duration": 9,
        "start_time": "2022-09-29T11:02:06.624Z"
      },
      {
        "duration": 8,
        "start_time": "2022-09-29T11:02:06.634Z"
      },
      {
        "duration": 10,
        "start_time": "2022-09-29T11:02:06.643Z"
      },
      {
        "duration": 17,
        "start_time": "2022-09-29T11:02:06.654Z"
      },
      {
        "duration": 18,
        "start_time": "2022-09-29T11:02:06.673Z"
      },
      {
        "duration": 17,
        "start_time": "2022-09-29T11:02:06.692Z"
      },
      {
        "duration": 9,
        "start_time": "2022-09-29T11:02:06.711Z"
      },
      {
        "duration": 10,
        "start_time": "2022-09-29T11:02:06.722Z"
      },
      {
        "duration": 14,
        "start_time": "2022-09-29T11:02:06.733Z"
      },
      {
        "duration": 10,
        "start_time": "2022-09-29T11:02:06.748Z"
      },
      {
        "duration": 3,
        "start_time": "2022-09-29T12:10:09.605Z"
      },
      {
        "duration": 372,
        "start_time": "2022-09-29T12:10:15.347Z"
      },
      {
        "duration": 73,
        "start_time": "2022-09-29T12:10:15.726Z"
      },
      {
        "duration": 20,
        "start_time": "2022-09-29T12:10:15.802Z"
      },
      {
        "duration": 12,
        "start_time": "2022-09-29T12:10:15.825Z"
      },
      {
        "duration": 7,
        "start_time": "2022-09-29T12:10:15.839Z"
      },
      {
        "duration": 5,
        "start_time": "2022-09-29T12:10:15.847Z"
      },
      {
        "duration": 10,
        "start_time": "2022-09-29T12:10:15.853Z"
      },
      {
        "duration": 17,
        "start_time": "2022-09-29T12:10:15.864Z"
      },
      {
        "duration": 7,
        "start_time": "2022-09-29T12:10:15.883Z"
      },
      {
        "duration": 11,
        "start_time": "2022-09-29T12:10:15.912Z"
      },
      {
        "duration": 14,
        "start_time": "2022-09-29T12:10:15.925Z"
      },
      {
        "duration": 12,
        "start_time": "2022-09-29T12:10:15.940Z"
      },
      {
        "duration": 11,
        "start_time": "2022-09-29T12:10:15.955Z"
      },
      {
        "duration": 8,
        "start_time": "2022-09-29T12:10:15.968Z"
      },
      {
        "duration": 6,
        "start_time": "2022-09-29T12:10:15.978Z"
      },
      {
        "duration": 11,
        "start_time": "2022-09-29T12:10:15.985Z"
      },
      {
        "duration": 6,
        "start_time": "2022-09-29T12:10:15.998Z"
      },
      {
        "duration": 26,
        "start_time": "2022-09-29T12:10:16.015Z"
      },
      {
        "duration": 13,
        "start_time": "2022-09-29T12:10:16.043Z"
      },
      {
        "duration": 97,
        "start_time": "2022-09-29T12:33:21.050Z"
      },
      {
        "duration": 28,
        "start_time": "2022-09-29T12:35:07.286Z"
      },
      {
        "duration": 300,
        "start_time": "2022-09-29T12:35:34.680Z"
      },
      {
        "duration": 817,
        "start_time": "2022-09-29T12:36:29.658Z"
      },
      {
        "duration": 80,
        "start_time": "2022-09-29T12:36:30.477Z"
      },
      {
        "duration": 12,
        "start_time": "2022-09-29T12:36:30.558Z"
      },
      {
        "duration": 35,
        "start_time": "2022-09-29T12:36:30.571Z"
      },
      {
        "duration": 28,
        "start_time": "2022-09-29T12:36:30.609Z"
      },
      {
        "duration": 30,
        "start_time": "2022-09-29T12:36:30.639Z"
      },
      {
        "duration": 23,
        "start_time": "2022-09-29T12:36:30.670Z"
      },
      {
        "duration": 28,
        "start_time": "2022-09-29T12:36:30.695Z"
      },
      {
        "duration": 15,
        "start_time": "2022-09-29T12:36:30.724Z"
      },
      {
        "duration": 12,
        "start_time": "2022-09-29T12:36:30.741Z"
      },
      {
        "duration": 15,
        "start_time": "2022-09-29T12:36:30.754Z"
      },
      {
        "duration": 66,
        "start_time": "2022-09-29T12:36:30.770Z"
      },
      {
        "duration": 38,
        "start_time": "2022-09-29T12:36:30.839Z"
      },
      {
        "duration": 21,
        "start_time": "2022-09-29T12:36:30.880Z"
      },
      {
        "duration": 56,
        "start_time": "2022-09-29T12:36:30.903Z"
      },
      {
        "duration": 70,
        "start_time": "2022-09-29T12:36:30.960Z"
      },
      {
        "duration": 73,
        "start_time": "2022-09-29T12:36:31.032Z"
      },
      {
        "duration": 35,
        "start_time": "2022-09-29T12:36:31.107Z"
      },
      {
        "duration": 541,
        "start_time": "2022-09-29T12:36:31.144Z"
      },
      {
        "duration": 437,
        "start_time": "2022-09-29T12:38:12.430Z"
      },
      {
        "duration": 718,
        "start_time": "2022-09-29T12:38:35.827Z"
      },
      {
        "duration": 750,
        "start_time": "2022-09-29T12:39:36.189Z"
      },
      {
        "duration": 631,
        "start_time": "2022-09-29T12:40:13.606Z"
      },
      {
        "duration": 657,
        "start_time": "2022-09-29T12:40:24.766Z"
      },
      {
        "duration": 529,
        "start_time": "2022-09-29T12:40:41.122Z"
      },
      {
        "duration": 579,
        "start_time": "2022-09-29T12:40:46.885Z"
      },
      {
        "duration": 379,
        "start_time": "2022-09-29T12:41:25.583Z"
      },
      {
        "duration": 659,
        "start_time": "2022-09-29T12:41:45.785Z"
      },
      {
        "duration": 1110,
        "start_time": "2022-09-29T12:42:00.954Z"
      },
      {
        "duration": 87,
        "start_time": "2022-09-29T12:42:16.369Z"
      },
      {
        "duration": 100,
        "start_time": "2022-09-29T12:43:04.772Z"
      },
      {
        "duration": 688,
        "start_time": "2022-09-29T12:43:10.594Z"
      },
      {
        "duration": 98,
        "start_time": "2022-09-29T12:43:11.284Z"
      },
      {
        "duration": 10,
        "start_time": "2022-09-29T12:43:11.384Z"
      },
      {
        "duration": 28,
        "start_time": "2022-09-29T12:43:11.396Z"
      },
      {
        "duration": 7,
        "start_time": "2022-09-29T12:43:11.427Z"
      },
      {
        "duration": 7,
        "start_time": "2022-09-29T12:43:11.436Z"
      },
      {
        "duration": 9,
        "start_time": "2022-09-29T12:43:11.445Z"
      },
      {
        "duration": 11,
        "start_time": "2022-09-29T12:43:11.456Z"
      },
      {
        "duration": 8,
        "start_time": "2022-09-29T12:43:11.469Z"
      },
      {
        "duration": 6,
        "start_time": "2022-09-29T12:43:11.479Z"
      },
      {
        "duration": 35,
        "start_time": "2022-09-29T12:43:11.486Z"
      },
      {
        "duration": 29,
        "start_time": "2022-09-29T12:43:11.523Z"
      },
      {
        "duration": 19,
        "start_time": "2022-09-29T12:43:11.554Z"
      },
      {
        "duration": 26,
        "start_time": "2022-09-29T12:43:11.576Z"
      },
      {
        "duration": 35,
        "start_time": "2022-09-29T12:43:11.604Z"
      },
      {
        "duration": 20,
        "start_time": "2022-09-29T12:43:11.641Z"
      },
      {
        "duration": 31,
        "start_time": "2022-09-29T12:43:11.663Z"
      },
      {
        "duration": 29,
        "start_time": "2022-09-29T12:43:11.697Z"
      },
      {
        "duration": 615,
        "start_time": "2022-09-29T12:43:11.727Z"
      },
      {
        "duration": 591,
        "start_time": "2022-09-29T12:43:22.748Z"
      },
      {
        "duration": 523,
        "start_time": "2022-09-29T12:43:33.030Z"
      },
      {
        "duration": 205,
        "start_time": "2022-09-29T13:14:40.226Z"
      },
      {
        "duration": 254,
        "start_time": "2022-09-29T13:15:23.754Z"
      },
      {
        "duration": 255,
        "start_time": "2022-09-29T13:16:09.836Z"
      },
      {
        "duration": 242,
        "start_time": "2022-09-29T13:16:16.501Z"
      },
      {
        "duration": 485,
        "start_time": "2022-09-29T13:16:23.094Z"
      },
      {
        "duration": 244,
        "start_time": "2022-09-29T13:28:03.444Z"
      },
      {
        "duration": 364,
        "start_time": "2022-09-29T13:28:28.693Z"
      },
      {
        "duration": 322,
        "start_time": "2022-09-29T13:33:45.540Z"
      },
      {
        "duration": 332,
        "start_time": "2022-09-29T13:34:36.527Z"
      },
      {
        "duration": 193,
        "start_time": "2022-09-29T13:36:16.458Z"
      },
      {
        "duration": 327,
        "start_time": "2022-09-29T13:36:52.147Z"
      },
      {
        "duration": 285,
        "start_time": "2022-09-29T13:36:54.469Z"
      },
      {
        "duration": 251,
        "start_time": "2022-09-29T13:37:31.450Z"
      },
      {
        "duration": 244,
        "start_time": "2022-09-29T13:38:00.840Z"
      },
      {
        "duration": 275,
        "start_time": "2022-09-29T13:39:03.689Z"
      },
      {
        "duration": 299,
        "start_time": "2022-09-29T14:21:03.481Z"
      },
      {
        "duration": 288,
        "start_time": "2022-09-29T14:21:32.050Z"
      },
      {
        "duration": 327,
        "start_time": "2022-09-29T14:21:40.618Z"
      },
      {
        "duration": 316,
        "start_time": "2022-09-29T14:22:04.868Z"
      },
      {
        "duration": 302,
        "start_time": "2022-09-29T15:30:41.929Z"
      },
      {
        "duration": 329,
        "start_time": "2022-09-29T15:31:15.980Z"
      },
      {
        "duration": 321,
        "start_time": "2022-09-29T15:31:48.327Z"
      },
      {
        "duration": 400,
        "start_time": "2022-09-29T15:32:21.066Z"
      },
      {
        "duration": 79,
        "start_time": "2022-09-29T15:45:25.824Z"
      },
      {
        "duration": 13,
        "start_time": "2022-09-29T15:45:38.987Z"
      },
      {
        "duration": 122,
        "start_time": "2022-09-29T15:46:04.100Z"
      },
      {
        "duration": 6,
        "start_time": "2022-09-29T15:50:18.584Z"
      },
      {
        "duration": 6,
        "start_time": "2022-09-29T15:50:22.104Z"
      },
      {
        "duration": 5,
        "start_time": "2022-09-29T15:51:42.755Z"
      },
      {
        "duration": 117,
        "start_time": "2022-09-29T16:00:26.263Z"
      },
      {
        "duration": 112,
        "start_time": "2022-09-29T16:01:39.104Z"
      },
      {
        "duration": 439,
        "start_time": "2022-09-29T16:03:21.960Z"
      },
      {
        "duration": 116,
        "start_time": "2022-09-29T16:03:56.203Z"
      },
      {
        "duration": 288,
        "start_time": "2022-09-29T16:04:49.369Z"
      },
      {
        "duration": 348,
        "start_time": "2022-09-29T16:05:06.751Z"
      },
      {
        "duration": 340,
        "start_time": "2022-09-29T16:05:16.291Z"
      },
      {
        "duration": 177,
        "start_time": "2022-09-29T16:05:57.288Z"
      },
      {
        "duration": 113,
        "start_time": "2022-09-29T16:06:05.348Z"
      },
      {
        "duration": 112,
        "start_time": "2022-09-29T16:06:10.696Z"
      },
      {
        "duration": 127,
        "start_time": "2022-09-29T16:06:18.140Z"
      },
      {
        "duration": 107,
        "start_time": "2022-09-29T16:06:38.294Z"
      },
      {
        "duration": 7,
        "start_time": "2022-09-29T16:11:31.920Z"
      },
      {
        "duration": 4,
        "start_time": "2022-09-29T16:11:40.895Z"
      },
      {
        "duration": 154,
        "start_time": "2022-09-29T16:28:50.887Z"
      },
      {
        "duration": 444,
        "start_time": "2022-09-29T16:31:39.776Z"
      },
      {
        "duration": 163,
        "start_time": "2022-09-29T16:31:45.103Z"
      },
      {
        "duration": 160,
        "start_time": "2022-09-29T16:32:00.423Z"
      },
      {
        "duration": 174,
        "start_time": "2022-09-29T16:32:10.108Z"
      },
      {
        "duration": 159,
        "start_time": "2022-09-29T16:36:32.120Z"
      },
      {
        "duration": 9,
        "start_time": "2022-09-29T16:36:34.531Z"
      },
      {
        "duration": 1623,
        "start_time": "2022-09-29T16:47:28.938Z"
      },
      {
        "duration": 1003,
        "start_time": "2022-09-29T16:47:31.337Z"
      },
      {
        "duration": 1809,
        "start_time": "2022-09-29T16:48:06.840Z"
      },
      {
        "duration": 7,
        "start_time": "2022-09-29T16:48:25.987Z"
      },
      {
        "duration": 7,
        "start_time": "2022-09-29T16:48:30.019Z"
      },
      {
        "duration": 7,
        "start_time": "2022-09-29T16:49:11.974Z"
      },
      {
        "duration": 7,
        "start_time": "2022-09-29T16:50:38.401Z"
      },
      {
        "duration": 9,
        "start_time": "2022-09-29T16:54:28.949Z"
      },
      {
        "duration": 1152,
        "start_time": "2022-09-29T16:54:35.331Z"
      },
      {
        "duration": 11,
        "start_time": "2022-09-29T16:55:12.334Z"
      },
      {
        "duration": 114,
        "start_time": "2022-09-29T17:56:50.249Z"
      },
      {
        "duration": 110,
        "start_time": "2022-09-29T17:57:05.297Z"
      },
      {
        "duration": 112,
        "start_time": "2022-09-29T17:57:09.238Z"
      },
      {
        "duration": 44,
        "start_time": "2022-09-30T09:31:57.725Z"
      },
      {
        "duration": 1324,
        "start_time": "2022-09-30T09:32:04.612Z"
      },
      {
        "duration": 273,
        "start_time": "2022-09-30T09:32:05.938Z"
      },
      {
        "duration": 13,
        "start_time": "2022-09-30T09:32:06.214Z"
      },
      {
        "duration": 12,
        "start_time": "2022-09-30T09:32:06.228Z"
      },
      {
        "duration": 9,
        "start_time": "2022-09-30T09:32:06.242Z"
      },
      {
        "duration": 7,
        "start_time": "2022-09-30T09:32:06.253Z"
      },
      {
        "duration": 12,
        "start_time": "2022-09-30T09:32:06.261Z"
      },
      {
        "duration": 44,
        "start_time": "2022-09-30T09:32:06.274Z"
      },
      {
        "duration": 6,
        "start_time": "2022-09-30T09:32:06.320Z"
      },
      {
        "duration": 7,
        "start_time": "2022-09-30T09:32:06.327Z"
      },
      {
        "duration": 12,
        "start_time": "2022-09-30T09:32:06.335Z"
      },
      {
        "duration": 7,
        "start_time": "2022-09-30T09:32:06.348Z"
      },
      {
        "duration": 10,
        "start_time": "2022-09-30T09:32:06.357Z"
      },
      {
        "duration": 44,
        "start_time": "2022-09-30T09:32:06.370Z"
      },
      {
        "duration": 8,
        "start_time": "2022-09-30T09:32:06.416Z"
      },
      {
        "duration": 11,
        "start_time": "2022-09-30T09:32:06.426Z"
      },
      {
        "duration": 13,
        "start_time": "2022-09-30T09:32:06.439Z"
      },
      {
        "duration": 10,
        "start_time": "2022-09-30T09:32:06.454Z"
      },
      {
        "duration": 1100,
        "start_time": "2022-09-30T09:32:06.466Z"
      },
      {
        "duration": 0,
        "start_time": "2022-09-30T09:32:07.567Z"
      },
      {
        "duration": 0,
        "start_time": "2022-09-30T09:32:07.568Z"
      },
      {
        "duration": 0,
        "start_time": "2022-09-30T09:32:07.569Z"
      },
      {
        "duration": 0,
        "start_time": "2022-09-30T09:32:07.570Z"
      },
      {
        "duration": 0,
        "start_time": "2022-09-30T09:32:07.571Z"
      },
      {
        "duration": 0,
        "start_time": "2022-09-30T09:32:07.572Z"
      },
      {
        "duration": 0,
        "start_time": "2022-09-30T09:32:07.573Z"
      },
      {
        "duration": 0,
        "start_time": "2022-09-30T09:32:07.574Z"
      },
      {
        "duration": 0,
        "start_time": "2022-09-30T09:32:07.575Z"
      },
      {
        "duration": 1,
        "start_time": "2022-09-30T09:32:07.582Z"
      },
      {
        "duration": 0,
        "start_time": "2022-09-30T09:32:07.586Z"
      },
      {
        "duration": 0,
        "start_time": "2022-09-30T09:32:07.587Z"
      },
      {
        "duration": 0,
        "start_time": "2022-09-30T09:32:07.588Z"
      },
      {
        "duration": 0,
        "start_time": "2022-09-30T09:32:07.589Z"
      },
      {
        "duration": 0,
        "start_time": "2022-09-30T09:32:07.590Z"
      },
      {
        "duration": 9,
        "start_time": "2022-09-30T09:32:20.462Z"
      },
      {
        "duration": 8,
        "start_time": "2022-09-30T09:32:32.204Z"
      },
      {
        "duration": 5,
        "start_time": "2022-09-30T09:32:33.349Z"
      },
      {
        "duration": 11,
        "start_time": "2022-09-30T09:32:49.102Z"
      },
      {
        "duration": 1101,
        "start_time": "2022-09-30T09:38:09.320Z"
      },
      {
        "duration": 108,
        "start_time": "2022-09-30T09:38:10.423Z"
      },
      {
        "duration": 11,
        "start_time": "2022-09-30T09:38:10.533Z"
      },
      {
        "duration": 18,
        "start_time": "2022-09-30T09:38:10.546Z"
      },
      {
        "duration": 20,
        "start_time": "2022-09-30T09:38:10.567Z"
      },
      {
        "duration": 22,
        "start_time": "2022-09-30T09:38:10.601Z"
      },
      {
        "duration": 12,
        "start_time": "2022-09-30T09:38:10.625Z"
      },
      {
        "duration": 21,
        "start_time": "2022-09-30T09:38:10.638Z"
      },
      {
        "duration": 10,
        "start_time": "2022-09-30T09:38:10.661Z"
      },
      {
        "duration": 39,
        "start_time": "2022-09-30T09:38:10.673Z"
      },
      {
        "duration": 30,
        "start_time": "2022-09-30T09:38:10.714Z"
      },
      {
        "duration": 12,
        "start_time": "2022-09-30T09:38:10.746Z"
      },
      {
        "duration": 17,
        "start_time": "2022-09-30T09:38:10.759Z"
      },
      {
        "duration": 44,
        "start_time": "2022-09-30T09:38:10.779Z"
      },
      {
        "duration": 22,
        "start_time": "2022-09-30T09:38:10.825Z"
      },
      {
        "duration": 14,
        "start_time": "2022-09-30T09:38:10.849Z"
      },
      {
        "duration": 25,
        "start_time": "2022-09-30T09:38:10.864Z"
      },
      {
        "duration": 15,
        "start_time": "2022-09-30T09:38:10.890Z"
      },
      {
        "duration": 10,
        "start_time": "2022-09-30T09:38:10.907Z"
      },
      {
        "duration": 4,
        "start_time": "2022-09-30T09:38:10.919Z"
      },
      {
        "duration": 639,
        "start_time": "2022-09-30T09:38:10.924Z"
      },
      {
        "duration": 276,
        "start_time": "2022-09-30T09:38:11.564Z"
      },
      {
        "duration": 324,
        "start_time": "2022-09-30T09:38:11.842Z"
      },
      {
        "duration": 274,
        "start_time": "2022-09-30T09:38:12.170Z"
      },
      {
        "duration": 351,
        "start_time": "2022-09-30T09:38:12.447Z"
      },
      {
        "duration": 127,
        "start_time": "2022-09-30T09:38:12.804Z"
      },
      {
        "duration": 7,
        "start_time": "2022-09-30T09:38:12.932Z"
      },
      {
        "duration": 162,
        "start_time": "2022-09-30T09:38:12.941Z"
      },
      {
        "duration": 121,
        "start_time": "2022-09-30T09:38:13.108Z"
      },
      {
        "duration": 5,
        "start_time": "2022-09-30T09:38:13.230Z"
      },
      {
        "duration": 244,
        "start_time": "2022-09-30T09:38:13.237Z"
      },
      {
        "duration": 21,
        "start_time": "2022-09-30T09:38:13.486Z"
      },
      {
        "duration": 10,
        "start_time": "2022-09-30T09:38:13.509Z"
      },
      {
        "duration": 116,
        "start_time": "2022-09-30T09:38:13.520Z"
      },
      {
        "duration": 0,
        "start_time": "2022-09-30T09:38:13.638Z"
      },
      {
        "duration": 295,
        "start_time": "2022-09-30T09:48:15.106Z"
      },
      {
        "duration": 8,
        "start_time": "2022-09-30T09:48:19.507Z"
      },
      {
        "duration": 8,
        "start_time": "2022-09-30T09:48:20.948Z"
      },
      {
        "duration": 29,
        "start_time": "2022-09-30T09:48:23.164Z"
      },
      {
        "duration": 955,
        "start_time": "2022-09-30T09:59:18.102Z"
      },
      {
        "duration": 19,
        "start_time": "2022-09-30T09:59:42.346Z"
      },
      {
        "duration": 17,
        "start_time": "2022-09-30T10:01:49.167Z"
      },
      {
        "duration": 1176,
        "start_time": "2022-09-30T15:02:50.025Z"
      },
      {
        "duration": 103,
        "start_time": "2022-09-30T15:02:51.203Z"
      },
      {
        "duration": 14,
        "start_time": "2022-09-30T15:02:51.312Z"
      },
      {
        "duration": 21,
        "start_time": "2022-09-30T15:02:51.328Z"
      },
      {
        "duration": 12,
        "start_time": "2022-09-30T15:02:51.353Z"
      },
      {
        "duration": 17,
        "start_time": "2022-09-30T15:02:51.367Z"
      },
      {
        "duration": 38,
        "start_time": "2022-09-30T15:02:51.386Z"
      },
      {
        "duration": 20,
        "start_time": "2022-09-30T15:02:51.426Z"
      },
      {
        "duration": 7,
        "start_time": "2022-09-30T15:02:51.449Z"
      },
      {
        "duration": 4,
        "start_time": "2022-09-30T15:02:51.459Z"
      },
      {
        "duration": 14,
        "start_time": "2022-09-30T15:02:51.465Z"
      },
      {
        "duration": 29,
        "start_time": "2022-09-30T15:02:51.481Z"
      },
      {
        "duration": 23,
        "start_time": "2022-09-30T15:02:51.512Z"
      },
      {
        "duration": 7,
        "start_time": "2022-09-30T15:02:51.537Z"
      },
      {
        "duration": 10,
        "start_time": "2022-09-30T15:02:51.546Z"
      },
      {
        "duration": 22,
        "start_time": "2022-09-30T15:02:51.557Z"
      },
      {
        "duration": 36,
        "start_time": "2022-09-30T15:02:51.581Z"
      },
      {
        "duration": 14,
        "start_time": "2022-09-30T15:02:51.619Z"
      },
      {
        "duration": 16,
        "start_time": "2022-09-30T15:02:51.635Z"
      },
      {
        "duration": 5,
        "start_time": "2022-09-30T15:02:51.654Z"
      },
      {
        "duration": 709,
        "start_time": "2022-09-30T15:02:51.661Z"
      },
      {
        "duration": 368,
        "start_time": "2022-09-30T15:02:52.377Z"
      },
      {
        "duration": 427,
        "start_time": "2022-09-30T15:02:52.746Z"
      },
      {
        "duration": 320,
        "start_time": "2022-09-30T15:02:53.177Z"
      },
      {
        "duration": 347,
        "start_time": "2022-09-30T15:02:53.499Z"
      },
      {
        "duration": 192,
        "start_time": "2022-09-30T15:02:53.847Z"
      },
      {
        "duration": 7,
        "start_time": "2022-09-30T15:02:54.044Z"
      },
      {
        "duration": 173,
        "start_time": "2022-09-30T15:02:54.052Z"
      },
      {
        "duration": 179,
        "start_time": "2022-09-30T15:02:54.227Z"
      },
      {
        "duration": 5,
        "start_time": "2022-09-30T15:02:54.408Z"
      },
      {
        "duration": 305,
        "start_time": "2022-09-30T15:02:54.416Z"
      },
      {
        "duration": 13,
        "start_time": "2022-09-30T15:02:54.723Z"
      },
      {
        "duration": 283,
        "start_time": "2022-09-30T15:02:54.739Z"
      },
      {
        "duration": 9,
        "start_time": "2022-09-30T15:02:55.024Z"
      },
      {
        "duration": 33,
        "start_time": "2022-09-30T15:02:55.035Z"
      },
      {
        "duration": 87,
        "start_time": "2022-09-30T15:02:55.070Z"
      },
      {
        "duration": 25,
        "start_time": "2022-09-30T15:02:55.159Z"
      },
      {
        "duration": 1007,
        "start_time": "2022-09-30T21:41:31.512Z"
      },
      {
        "duration": 93,
        "start_time": "2022-09-30T21:41:32.521Z"
      },
      {
        "duration": 10,
        "start_time": "2022-09-30T21:41:32.616Z"
      },
      {
        "duration": 11,
        "start_time": "2022-09-30T21:41:32.627Z"
      },
      {
        "duration": 10,
        "start_time": "2022-09-30T21:41:32.639Z"
      },
      {
        "duration": 6,
        "start_time": "2022-09-30T21:41:32.651Z"
      },
      {
        "duration": 10,
        "start_time": "2022-09-30T21:41:32.658Z"
      },
      {
        "duration": 28,
        "start_time": "2022-09-30T21:41:32.670Z"
      },
      {
        "duration": 9,
        "start_time": "2022-09-30T21:41:32.700Z"
      },
      {
        "duration": 5,
        "start_time": "2022-09-30T21:41:32.711Z"
      },
      {
        "duration": 12,
        "start_time": "2022-09-30T21:41:32.717Z"
      },
      {
        "duration": 16,
        "start_time": "2022-09-30T21:41:32.731Z"
      },
      {
        "duration": 35,
        "start_time": "2022-09-30T21:41:32.748Z"
      },
      {
        "duration": 8,
        "start_time": "2022-09-30T21:41:32.786Z"
      },
      {
        "duration": 13,
        "start_time": "2022-09-30T21:41:32.795Z"
      },
      {
        "duration": 16,
        "start_time": "2022-09-30T21:41:32.809Z"
      },
      {
        "duration": 13,
        "start_time": "2022-09-30T21:41:32.826Z"
      },
      {
        "duration": 9,
        "start_time": "2022-09-30T21:41:32.840Z"
      },
      {
        "duration": 10,
        "start_time": "2022-09-30T21:41:32.850Z"
      },
      {
        "duration": 4,
        "start_time": "2022-09-30T21:41:32.862Z"
      },
      {
        "duration": 579,
        "start_time": "2022-09-30T21:41:32.876Z"
      },
      {
        "duration": 235,
        "start_time": "2022-09-30T21:41:33.457Z"
      },
      {
        "duration": 336,
        "start_time": "2022-09-30T21:41:33.693Z"
      },
      {
        "duration": 237,
        "start_time": "2022-09-30T21:41:34.031Z"
      },
      {
        "duration": 338,
        "start_time": "2022-09-30T21:41:34.271Z"
      },
      {
        "duration": 121,
        "start_time": "2022-09-30T21:41:34.611Z"
      },
      {
        "duration": 6,
        "start_time": "2022-09-30T21:41:34.734Z"
      },
      {
        "duration": 140,
        "start_time": "2022-09-30T21:41:34.741Z"
      },
      {
        "duration": 130,
        "start_time": "2022-09-30T21:41:34.883Z"
      },
      {
        "duration": 6,
        "start_time": "2022-09-30T21:41:35.014Z"
      },
      {
        "duration": 265,
        "start_time": "2022-09-30T21:41:35.021Z"
      },
      {
        "duration": 9,
        "start_time": "2022-09-30T21:41:35.287Z"
      },
      {
        "duration": 225,
        "start_time": "2022-09-30T21:41:35.298Z"
      },
      {
        "duration": 8,
        "start_time": "2022-09-30T21:41:35.525Z"
      },
      {
        "duration": 28,
        "start_time": "2022-09-30T21:41:35.535Z"
      },
      {
        "duration": 21,
        "start_time": "2022-09-30T21:41:35.564Z"
      },
      {
        "duration": 16,
        "start_time": "2022-09-30T21:41:35.586Z"
      },
      {
        "duration": 1252,
        "start_time": "2022-10-01T17:27:22.328Z"
      },
      {
        "duration": 202,
        "start_time": "2022-10-01T17:27:23.582Z"
      },
      {
        "duration": 12,
        "start_time": "2022-10-01T17:27:23.786Z"
      },
      {
        "duration": 11,
        "start_time": "2022-10-01T17:27:23.800Z"
      },
      {
        "duration": 10,
        "start_time": "2022-10-01T17:27:23.813Z"
      },
      {
        "duration": 7,
        "start_time": "2022-10-01T17:27:23.825Z"
      },
      {
        "duration": 13,
        "start_time": "2022-10-01T17:27:23.834Z"
      },
      {
        "duration": 16,
        "start_time": "2022-10-01T17:27:23.849Z"
      },
      {
        "duration": 6,
        "start_time": "2022-10-01T17:27:23.867Z"
      },
      {
        "duration": 7,
        "start_time": "2022-10-01T17:27:23.875Z"
      },
      {
        "duration": 9,
        "start_time": "2022-10-01T17:27:23.883Z"
      },
      {
        "duration": 11,
        "start_time": "2022-10-01T17:27:23.893Z"
      },
      {
        "duration": 17,
        "start_time": "2022-10-01T17:27:23.905Z"
      },
      {
        "duration": 11,
        "start_time": "2022-10-01T17:27:23.924Z"
      },
      {
        "duration": 8,
        "start_time": "2022-10-01T17:27:23.936Z"
      },
      {
        "duration": 16,
        "start_time": "2022-10-01T17:27:23.945Z"
      },
      {
        "duration": 24,
        "start_time": "2022-10-01T17:27:23.962Z"
      },
      {
        "duration": 37,
        "start_time": "2022-10-01T17:27:23.987Z"
      },
      {
        "duration": 29,
        "start_time": "2022-10-01T17:27:24.025Z"
      },
      {
        "duration": 12,
        "start_time": "2022-10-01T17:27:24.056Z"
      },
      {
        "duration": 555,
        "start_time": "2022-10-01T17:27:24.069Z"
      },
      {
        "duration": 220,
        "start_time": "2022-10-01T17:27:24.626Z"
      },
      {
        "duration": 356,
        "start_time": "2022-10-01T17:27:24.848Z"
      },
      {
        "duration": 239,
        "start_time": "2022-10-01T17:27:25.206Z"
      },
      {
        "duration": 303,
        "start_time": "2022-10-01T17:27:25.447Z"
      },
      {
        "duration": 115,
        "start_time": "2022-10-01T17:27:25.751Z"
      },
      {
        "duration": 5,
        "start_time": "2022-10-01T17:27:25.868Z"
      },
      {
        "duration": 138,
        "start_time": "2022-10-01T17:27:25.876Z"
      },
      {
        "duration": 129,
        "start_time": "2022-10-01T17:27:26.016Z"
      },
      {
        "duration": 6,
        "start_time": "2022-10-01T17:27:26.147Z"
      },
      {
        "duration": 319,
        "start_time": "2022-10-01T17:27:26.155Z"
      },
      {
        "duration": 9,
        "start_time": "2022-10-01T17:27:26.476Z"
      },
      {
        "duration": 208,
        "start_time": "2022-10-01T17:27:26.486Z"
      },
      {
        "duration": 9,
        "start_time": "2022-10-01T17:27:26.696Z"
      },
      {
        "duration": 15,
        "start_time": "2022-10-01T17:27:26.708Z"
      },
      {
        "duration": 28,
        "start_time": "2022-10-01T17:27:26.725Z"
      },
      {
        "duration": 13,
        "start_time": "2022-10-01T17:27:26.755Z"
      },
      {
        "duration": 1393,
        "start_time": "2022-10-01T21:16:40.315Z"
      },
      {
        "duration": 210,
        "start_time": "2022-10-01T21:16:41.710Z"
      },
      {
        "duration": 14,
        "start_time": "2022-10-01T21:16:41.922Z"
      },
      {
        "duration": 22,
        "start_time": "2022-10-01T21:16:41.938Z"
      },
      {
        "duration": 14,
        "start_time": "2022-10-01T21:16:41.962Z"
      },
      {
        "duration": 9,
        "start_time": "2022-10-01T21:16:41.978Z"
      },
      {
        "duration": 19,
        "start_time": "2022-10-01T21:16:41.989Z"
      },
      {
        "duration": 28,
        "start_time": "2022-10-01T21:16:42.009Z"
      },
      {
        "duration": 17,
        "start_time": "2022-10-01T21:16:42.039Z"
      },
      {
        "duration": 9,
        "start_time": "2022-10-01T21:16:42.059Z"
      },
      {
        "duration": 11,
        "start_time": "2022-10-01T21:16:42.069Z"
      },
      {
        "duration": 20,
        "start_time": "2022-10-01T21:16:42.082Z"
      },
      {
        "duration": 17,
        "start_time": "2022-10-01T21:16:42.104Z"
      },
      {
        "duration": 16,
        "start_time": "2022-10-01T21:16:42.123Z"
      },
      {
        "duration": 11,
        "start_time": "2022-10-01T21:16:42.141Z"
      },
      {
        "duration": 15,
        "start_time": "2022-10-01T21:16:42.154Z"
      },
      {
        "duration": 24,
        "start_time": "2022-10-01T21:16:42.171Z"
      },
      {
        "duration": 14,
        "start_time": "2022-10-01T21:16:42.197Z"
      },
      {
        "duration": 17,
        "start_time": "2022-10-01T21:16:42.213Z"
      },
      {
        "duration": 10,
        "start_time": "2022-10-01T21:16:42.232Z"
      },
      {
        "duration": 644,
        "start_time": "2022-10-01T21:16:42.244Z"
      },
      {
        "duration": 241,
        "start_time": "2022-10-01T21:16:42.889Z"
      },
      {
        "duration": 401,
        "start_time": "2022-10-01T21:16:43.132Z"
      },
      {
        "duration": 266,
        "start_time": "2022-10-01T21:16:43.535Z"
      },
      {
        "duration": 321,
        "start_time": "2022-10-01T21:16:43.803Z"
      },
      {
        "duration": 129,
        "start_time": "2022-10-01T21:16:44.126Z"
      },
      {
        "duration": 5,
        "start_time": "2022-10-01T21:16:44.258Z"
      },
      {
        "duration": 141,
        "start_time": "2022-10-01T21:16:44.267Z"
      },
      {
        "duration": 135,
        "start_time": "2022-10-01T21:16:44.409Z"
      },
      {
        "duration": 12,
        "start_time": "2022-10-01T21:16:44.545Z"
      },
      {
        "duration": 283,
        "start_time": "2022-10-01T21:16:44.559Z"
      },
      {
        "duration": 14,
        "start_time": "2022-10-01T21:16:44.855Z"
      },
      {
        "duration": 258,
        "start_time": "2022-10-01T21:16:44.871Z"
      },
      {
        "duration": 7,
        "start_time": "2022-10-01T21:16:45.131Z"
      },
      {
        "duration": 28,
        "start_time": "2022-10-01T21:16:45.141Z"
      },
      {
        "duration": 24,
        "start_time": "2022-10-01T21:16:45.171Z"
      },
      {
        "duration": 14,
        "start_time": "2022-10-01T21:16:45.198Z"
      },
      {
        "duration": 51,
        "start_time": "2022-10-03T11:01:08.050Z"
      },
      {
        "duration": 1345,
        "start_time": "2022-10-03T11:01:27.412Z"
      },
      {
        "duration": 201,
        "start_time": "2022-10-03T11:01:28.759Z"
      },
      {
        "duration": 11,
        "start_time": "2022-10-03T11:01:28.962Z"
      },
      {
        "duration": 46,
        "start_time": "2022-10-03T11:01:28.975Z"
      },
      {
        "duration": 18,
        "start_time": "2022-10-03T11:01:29.023Z"
      },
      {
        "duration": 27,
        "start_time": "2022-10-03T11:01:29.042Z"
      },
      {
        "duration": 26,
        "start_time": "2022-10-03T11:01:29.071Z"
      },
      {
        "duration": 27,
        "start_time": "2022-10-03T11:01:29.098Z"
      },
      {
        "duration": 23,
        "start_time": "2022-10-03T11:01:29.126Z"
      },
      {
        "duration": 8,
        "start_time": "2022-10-03T11:01:29.151Z"
      },
      {
        "duration": 21,
        "start_time": "2022-10-03T11:01:29.161Z"
      },
      {
        "duration": 18,
        "start_time": "2022-10-03T11:01:29.183Z"
      },
      {
        "duration": 24,
        "start_time": "2022-10-03T11:01:29.202Z"
      },
      {
        "duration": 16,
        "start_time": "2022-10-03T11:01:29.227Z"
      },
      {
        "duration": 21,
        "start_time": "2022-10-03T11:01:29.244Z"
      },
      {
        "duration": 22,
        "start_time": "2022-10-03T11:01:29.266Z"
      },
      {
        "duration": 23,
        "start_time": "2022-10-03T11:01:29.290Z"
      },
      {
        "duration": 10,
        "start_time": "2022-10-03T11:01:29.314Z"
      },
      {
        "duration": 32,
        "start_time": "2022-10-03T11:01:29.325Z"
      },
      {
        "duration": 43,
        "start_time": "2022-10-03T11:01:29.358Z"
      },
      {
        "duration": 27,
        "start_time": "2022-10-03T11:01:29.403Z"
      },
      {
        "duration": 594,
        "start_time": "2022-10-03T11:01:29.432Z"
      },
      {
        "duration": 236,
        "start_time": "2022-10-03T11:01:30.028Z"
      },
      {
        "duration": 388,
        "start_time": "2022-10-03T11:01:30.265Z"
      },
      {
        "duration": 254,
        "start_time": "2022-10-03T11:01:30.655Z"
      },
      {
        "duration": 323,
        "start_time": "2022-10-03T11:01:30.911Z"
      },
      {
        "duration": 118,
        "start_time": "2022-10-03T11:01:31.235Z"
      },
      {
        "duration": 4,
        "start_time": "2022-10-03T11:01:31.356Z"
      },
      {
        "duration": 144,
        "start_time": "2022-10-03T11:01:31.362Z"
      },
      {
        "duration": 117,
        "start_time": "2022-10-03T11:01:31.508Z"
      },
      {
        "duration": 5,
        "start_time": "2022-10-03T11:01:31.626Z"
      },
      {
        "duration": 236,
        "start_time": "2022-10-03T11:01:31.632Z"
      },
      {
        "duration": 9,
        "start_time": "2022-10-03T11:01:31.870Z"
      },
      {
        "duration": 236,
        "start_time": "2022-10-03T11:01:31.881Z"
      },
      {
        "duration": 8,
        "start_time": "2022-10-03T11:01:32.119Z"
      },
      {
        "duration": 38,
        "start_time": "2022-10-03T11:01:32.129Z"
      },
      {
        "duration": 44,
        "start_time": "2022-10-03T11:01:32.169Z"
      },
      {
        "duration": 13,
        "start_time": "2022-10-03T11:01:32.215Z"
      },
      {
        "duration": 11,
        "start_time": "2022-10-03T11:02:40.663Z"
      },
      {
        "duration": 107,
        "start_time": "2022-10-03T11:02:57.382Z"
      },
      {
        "duration": 10,
        "start_time": "2022-10-03T11:03:19.974Z"
      },
      {
        "duration": 5,
        "start_time": "2022-10-03T11:04:01.365Z"
      },
      {
        "duration": 10,
        "start_time": "2022-10-03T11:04:04.515Z"
      },
      {
        "duration": 6,
        "start_time": "2022-10-03T11:04:23.708Z"
      },
      {
        "duration": 10,
        "start_time": "2022-10-03T11:04:26.891Z"
      },
      {
        "duration": 14,
        "start_time": "2022-10-03T11:04:56.412Z"
      },
      {
        "duration": 85,
        "start_time": "2022-10-03T11:05:11.770Z"
      },
      {
        "duration": 11,
        "start_time": "2022-10-03T11:05:15.915Z"
      },
      {
        "duration": 6,
        "start_time": "2022-10-03T11:05:48.692Z"
      },
      {
        "duration": 9,
        "start_time": "2022-10-03T11:05:51.219Z"
      },
      {
        "duration": 8,
        "start_time": "2022-10-03T11:05:59.834Z"
      },
      {
        "duration": 156,
        "start_time": "2022-10-03T11:30:34.103Z"
      },
      {
        "duration": 139,
        "start_time": "2022-10-03T11:30:50.596Z"
      },
      {
        "duration": 149,
        "start_time": "2022-10-03T11:31:09.859Z"
      },
      {
        "duration": 153,
        "start_time": "2022-10-03T11:31:46.403Z"
      },
      {
        "duration": 158,
        "start_time": "2022-10-03T11:32:43.994Z"
      },
      {
        "duration": 281,
        "start_time": "2022-10-03T11:33:26.922Z"
      },
      {
        "duration": 181,
        "start_time": "2022-10-03T11:33:33.754Z"
      },
      {
        "duration": 175,
        "start_time": "2022-10-03T11:34:04.217Z"
      },
      {
        "duration": 264,
        "start_time": "2022-10-03T11:34:21.137Z"
      },
      {
        "duration": 151,
        "start_time": "2022-10-03T11:34:27.860Z"
      },
      {
        "duration": 266,
        "start_time": "2022-10-03T11:34:37.345Z"
      },
      {
        "duration": 180,
        "start_time": "2022-10-03T11:35:13.816Z"
      },
      {
        "duration": 5,
        "start_time": "2022-10-03T11:36:03.904Z"
      },
      {
        "duration": 6,
        "start_time": "2022-10-03T11:36:09.800Z"
      },
      {
        "duration": 56,
        "start_time": "2022-10-03T11:37:33.326Z"
      },
      {
        "duration": 5,
        "start_time": "2022-10-03T11:37:40.847Z"
      },
      {
        "duration": 175,
        "start_time": "2022-10-03T11:45:05.298Z"
      },
      {
        "duration": 11,
        "start_time": "2022-10-03T11:52:09.020Z"
      },
      {
        "duration": 1152,
        "start_time": "2022-10-03T13:55:48.591Z"
      },
      {
        "duration": 86,
        "start_time": "2022-10-03T13:55:49.745Z"
      },
      {
        "duration": 12,
        "start_time": "2022-10-03T13:55:49.833Z"
      },
      {
        "duration": 27,
        "start_time": "2022-10-03T13:55:49.848Z"
      },
      {
        "duration": 5,
        "start_time": "2022-10-03T13:55:49.877Z"
      },
      {
        "duration": 4,
        "start_time": "2022-10-03T13:55:49.884Z"
      },
      {
        "duration": 10,
        "start_time": "2022-10-03T13:55:49.890Z"
      },
      {
        "duration": 13,
        "start_time": "2022-10-03T13:55:49.901Z"
      },
      {
        "duration": 4,
        "start_time": "2022-10-03T13:55:49.916Z"
      },
      {
        "duration": 3,
        "start_time": "2022-10-03T13:55:49.923Z"
      },
      {
        "duration": 7,
        "start_time": "2022-10-03T13:55:49.928Z"
      },
      {
        "duration": 11,
        "start_time": "2022-10-03T13:55:49.937Z"
      },
      {
        "duration": 8,
        "start_time": "2022-10-03T13:55:49.950Z"
      },
      {
        "duration": 6,
        "start_time": "2022-10-03T13:55:49.959Z"
      },
      {
        "duration": 43,
        "start_time": "2022-10-03T13:55:49.967Z"
      },
      {
        "duration": 11,
        "start_time": "2022-10-03T13:55:50.012Z"
      },
      {
        "duration": 17,
        "start_time": "2022-10-03T13:55:50.025Z"
      },
      {
        "duration": 12,
        "start_time": "2022-10-03T13:55:50.044Z"
      },
      {
        "duration": 15,
        "start_time": "2022-10-03T13:55:50.057Z"
      },
      {
        "duration": 5,
        "start_time": "2022-10-03T13:55:50.073Z"
      },
      {
        "duration": 29,
        "start_time": "2022-10-03T13:55:50.080Z"
      },
      {
        "duration": 565,
        "start_time": "2022-10-03T13:55:50.110Z"
      },
      {
        "duration": 234,
        "start_time": "2022-10-03T13:55:50.677Z"
      },
      {
        "duration": 335,
        "start_time": "2022-10-03T13:55:50.913Z"
      },
      {
        "duration": 251,
        "start_time": "2022-10-03T13:55:51.250Z"
      },
      {
        "duration": 338,
        "start_time": "2022-10-03T13:55:51.503Z"
      },
      {
        "duration": 169,
        "start_time": "2022-10-03T13:55:51.843Z"
      },
      {
        "duration": 4,
        "start_time": "2022-10-03T13:55:52.015Z"
      },
      {
        "duration": 182,
        "start_time": "2022-10-03T13:55:52.021Z"
      },
      {
        "duration": 185,
        "start_time": "2022-10-03T13:55:52.205Z"
      },
      {
        "duration": 4,
        "start_time": "2022-10-03T13:55:52.391Z"
      },
      {
        "duration": 267,
        "start_time": "2022-10-03T13:55:52.397Z"
      },
      {
        "duration": 12,
        "start_time": "2022-10-03T13:55:52.665Z"
      },
      {
        "duration": 245,
        "start_time": "2022-10-03T13:55:52.679Z"
      },
      {
        "duration": 7,
        "start_time": "2022-10-03T13:55:52.925Z"
      },
      {
        "duration": 25,
        "start_time": "2022-10-03T13:55:52.934Z"
      },
      {
        "duration": 19,
        "start_time": "2022-10-03T13:55:52.961Z"
      },
      {
        "duration": 12,
        "start_time": "2022-10-03T13:55:52.982Z"
      },
      {
        "duration": 949,
        "start_time": "2022-10-03T14:03:54.202Z"
      },
      {
        "duration": 8,
        "start_time": "2022-10-03T14:04:58.602Z"
      },
      {
        "duration": 6,
        "start_time": "2022-10-03T14:05:32.258Z"
      },
      {
        "duration": 7,
        "start_time": "2022-10-03T14:05:33.729Z"
      },
      {
        "duration": 8,
        "start_time": "2022-10-03T14:05:35.314Z"
      },
      {
        "duration": 21,
        "start_time": "2022-10-03T14:05:37.672Z"
      },
      {
        "duration": 13,
        "start_time": "2022-10-03T14:05:46.264Z"
      },
      {
        "duration": 13,
        "start_time": "2022-10-03T14:07:05.536Z"
      },
      {
        "duration": 21,
        "start_time": "2022-10-03T14:07:13.708Z"
      },
      {
        "duration": 1121,
        "start_time": "2022-10-03T22:10:54.560Z"
      },
      {
        "duration": 86,
        "start_time": "2022-10-03T22:10:55.683Z"
      },
      {
        "duration": 11,
        "start_time": "2022-10-03T22:10:55.770Z"
      },
      {
        "duration": 12,
        "start_time": "2022-10-03T22:10:55.783Z"
      },
      {
        "duration": 14,
        "start_time": "2022-10-03T22:10:55.797Z"
      },
      {
        "duration": 7,
        "start_time": "2022-10-03T22:10:55.812Z"
      },
      {
        "duration": 15,
        "start_time": "2022-10-03T22:10:55.821Z"
      },
      {
        "duration": 16,
        "start_time": "2022-10-03T22:10:55.837Z"
      },
      {
        "duration": 7,
        "start_time": "2022-10-03T22:10:55.855Z"
      },
      {
        "duration": 7,
        "start_time": "2022-10-03T22:10:55.864Z"
      },
      {
        "duration": 11,
        "start_time": "2022-10-03T22:10:55.873Z"
      },
      {
        "duration": 17,
        "start_time": "2022-10-03T22:10:55.886Z"
      },
      {
        "duration": 11,
        "start_time": "2022-10-03T22:10:55.909Z"
      },
      {
        "duration": 10,
        "start_time": "2022-10-03T22:10:55.922Z"
      },
      {
        "duration": 11,
        "start_time": "2022-10-03T22:10:55.934Z"
      },
      {
        "duration": 13,
        "start_time": "2022-10-03T22:10:55.946Z"
      },
      {
        "duration": 17,
        "start_time": "2022-10-03T22:10:55.960Z"
      },
      {
        "duration": 11,
        "start_time": "2022-10-03T22:10:55.979Z"
      },
      {
        "duration": 23,
        "start_time": "2022-10-03T22:10:55.992Z"
      },
      {
        "duration": 8,
        "start_time": "2022-10-03T22:10:56.017Z"
      },
      {
        "duration": 16,
        "start_time": "2022-10-03T22:10:56.026Z"
      },
      {
        "duration": 584,
        "start_time": "2022-10-03T22:10:56.043Z"
      },
      {
        "duration": 238,
        "start_time": "2022-10-03T22:10:56.629Z"
      },
      {
        "duration": 316,
        "start_time": "2022-10-03T22:10:56.869Z"
      },
      {
        "duration": 246,
        "start_time": "2022-10-03T22:10:57.187Z"
      },
      {
        "duration": 305,
        "start_time": "2022-10-03T22:10:57.435Z"
      },
      {
        "duration": 168,
        "start_time": "2022-10-03T22:10:57.742Z"
      },
      {
        "duration": 5,
        "start_time": "2022-10-03T22:10:57.913Z"
      },
      {
        "duration": 184,
        "start_time": "2022-10-03T22:10:57.919Z"
      },
      {
        "duration": 183,
        "start_time": "2022-10-03T22:10:58.104Z"
      },
      {
        "duration": 4,
        "start_time": "2022-10-03T22:10:58.289Z"
      },
      {
        "duration": 248,
        "start_time": "2022-10-03T22:10:58.295Z"
      },
      {
        "duration": 11,
        "start_time": "2022-10-03T22:10:58.545Z"
      },
      {
        "duration": 21,
        "start_time": "2022-10-03T22:10:58.558Z"
      },
      {
        "duration": 29,
        "start_time": "2022-10-03T22:10:58.581Z"
      },
      {
        "duration": 34,
        "start_time": "2022-10-03T22:10:58.612Z"
      },
      {
        "duration": 45,
        "start_time": "2022-10-03T22:10:58.648Z"
      },
      {
        "duration": 14,
        "start_time": "2022-10-03T22:10:58.694Z"
      }
    ],
    "kernelspec": {
      "display_name": "Python 3 (ipykernel)",
      "language": "python",
      "name": "python3"
    },
    "language_info": {
      "codemirror_mode": {
        "name": "ipython",
        "version": 3
      },
      "file_extension": ".py",
      "mimetype": "text/x-python",
      "name": "python",
      "nbconvert_exporter": "python",
      "pygments_lexer": "ipython3",
      "version": "3.9.5"
    },
    "toc": {
      "base_numbering": 1,
      "nav_menu": {
        "height": "144.986px",
        "width": "167.997px"
      },
      "number_sections": true,
      "sideBar": true,
      "skip_h1_title": true,
      "title_cell": "Table of Contents",
      "title_sidebar": "Contents",
      "toc_cell": false,
      "toc_position": {},
      "toc_section_display": true,
      "toc_window_display": false
    },
    "colab": {
      "provenance": [],
      "toc_visible": true,
      "include_colab_link": true
    }
  },
  "nbformat": 4,
  "nbformat_minor": 0
}